{
 "cells": [
  {
   "cell_type": "code",
   "execution_count": 32,
   "id": "f37d69a1-a52b-40d9-9151-3b85cff959f7",
   "metadata": {},
   "outputs": [],
   "source": [
    "import numpy as np\n",
    "import pandas as pd\n",
    "import matplotlib.pyplot as plt\n",
    "import seaborn as sns\n",
    "import warnings \n",
    "from datetime import datetime"
   ]
  },
  {
   "cell_type": "code",
   "execution_count": 33,
   "id": "b5db3ce9-75cf-4685-9f11-0d54e75b0431",
   "metadata": {},
   "outputs": [
    {
     "name": "stderr",
     "output_type": "stream",
     "text": [
      "C:\\Users\\fbdog\\AppData\\Local\\Temp\\ipykernel_1680\\2804812056.py:6: DtypeWarning: Columns (13,15,19,30,32,37,41,42) have mixed types. Specify dtype option on import or set low_memory=False.\n",
      "  df = pd.read_csv(\"train.csv\")\n"
     ]
    },
    {
     "data": {
      "text/html": [
       "<div>\n",
       "<style scoped>\n",
       "    .dataframe tbody tr th:only-of-type {\n",
       "        vertical-align: middle;\n",
       "    }\n",
       "\n",
       "    .dataframe tbody tr th {\n",
       "        vertical-align: top;\n",
       "    }\n",
       "\n",
       "    .dataframe thead th {\n",
       "        text-align: right;\n",
       "    }\n",
       "</style>\n",
       "<table border=\"1\" class=\"dataframe\">\n",
       "  <thead>\n",
       "    <tr style=\"text-align: right;\">\n",
       "      <th></th>\n",
       "      <th>Basvuru Yili</th>\n",
       "      <th>Degerlendirme Puani</th>\n",
       "      <th>Cinsiyet</th>\n",
       "      <th>Dogum Tarihi</th>\n",
       "      <th>Dogum Yeri</th>\n",
       "      <th>Ikametgah Sehri</th>\n",
       "      <th>Universite Adi</th>\n",
       "      <th>Universite Turu</th>\n",
       "      <th>Burslu ise Burs Yuzdesi</th>\n",
       "      <th>Burs Aliyor mu?</th>\n",
       "      <th>...</th>\n",
       "      <th>Spor Dalindaki Rolunuz Nedir?</th>\n",
       "      <th>Aktif olarak bir STK üyesi misiniz?</th>\n",
       "      <th>Hangi STK'nin Uyesisiniz?</th>\n",
       "      <th>Stk Projesine Katildiniz Mi?</th>\n",
       "      <th>Girisimcilikle Ilgili Deneyiminiz Var Mi?</th>\n",
       "      <th>Girisimcilikle Ilgili Deneyiminizi Aciklayabilir misiniz?</th>\n",
       "      <th>Ingilizce Biliyor musunuz?</th>\n",
       "      <th>Ingilizce Seviyeniz?</th>\n",
       "      <th>Daha Önceden Mezun Olunduysa, Mezun Olunan Üniversite</th>\n",
       "      <th>id</th>\n",
       "    </tr>\n",
       "  </thead>\n",
       "  <tbody>\n",
       "    <tr>\n",
       "      <th>0</th>\n",
       "      <td>2014</td>\n",
       "      <td>52.0</td>\n",
       "      <td>Erkek</td>\n",
       "      <td>4/6/1994</td>\n",
       "      <td>Altindag, Ankara</td>\n",
       "      <td>Ankara</td>\n",
       "      <td>İHSAN DOĞRAMACI BİLKENT</td>\n",
       "      <td>Özel</td>\n",
       "      <td>100.0</td>\n",
       "      <td>Evet</td>\n",
       "      <td>...</td>\n",
       "      <td>Diğer</td>\n",
       "      <td>Hayır</td>\n",
       "      <td>NaN</td>\n",
       "      <td>Evet</td>\n",
       "      <td>Hayır</td>\n",
       "      <td>NaN</td>\n",
       "      <td>NaN</td>\n",
       "      <td>NaN</td>\n",
       "      <td>NaN</td>\n",
       "      <td>0</td>\n",
       "    </tr>\n",
       "    <tr>\n",
       "      <th>1</th>\n",
       "      <td>2014</td>\n",
       "      <td>30.0</td>\n",
       "      <td>Erkek</td>\n",
       "      <td>6/11/1993</td>\n",
       "      <td>Üsküdar</td>\n",
       "      <td>İstanbul</td>\n",
       "      <td>İHSAN DOĞRAMACI BİLKENT</td>\n",
       "      <td>Özel</td>\n",
       "      <td>100.0</td>\n",
       "      <td>Hayır</td>\n",
       "      <td>...</td>\n",
       "      <td>0</td>\n",
       "      <td>Hayır</td>\n",
       "      <td>NaN</td>\n",
       "      <td>Evet</td>\n",
       "      <td>Evet</td>\n",
       "      <td>Bilkent Cyberparkta bir şirkette Türkiye nin i...</td>\n",
       "      <td>NaN</td>\n",
       "      <td>NaN</td>\n",
       "      <td>NaN</td>\n",
       "      <td>1</td>\n",
       "    </tr>\n",
       "    <tr>\n",
       "      <th>2</th>\n",
       "      <td>2014</td>\n",
       "      <td>18.0</td>\n",
       "      <td>Erkek</td>\n",
       "      <td>1/15/1986</td>\n",
       "      <td>Samsun</td>\n",
       "      <td>İstanbul</td>\n",
       "      <td>ULUSLARARASI KIBRIS ÜNİVERSİTESİ</td>\n",
       "      <td>Özel</td>\n",
       "      <td>100.0</td>\n",
       "      <td>Hayır</td>\n",
       "      <td>...</td>\n",
       "      <td>0</td>\n",
       "      <td>Hayır</td>\n",
       "      <td>NaN</td>\n",
       "      <td>Hayır</td>\n",
       "      <td>Hayır</td>\n",
       "      <td>NaN</td>\n",
       "      <td>NaN</td>\n",
       "      <td>NaN</td>\n",
       "      <td>NaN</td>\n",
       "      <td>2</td>\n",
       "    </tr>\n",
       "    <tr>\n",
       "      <th>3</th>\n",
       "      <td>2014</td>\n",
       "      <td>40.0</td>\n",
       "      <td>Erkek</td>\n",
       "      <td>6/4/1991</td>\n",
       "      <td>Diyarbakır</td>\n",
       "      <td>İstanbul</td>\n",
       "      <td>İSTANBUL ŞEHİR ÜNİVERSİTESİ</td>\n",
       "      <td>Özel</td>\n",
       "      <td>100.0</td>\n",
       "      <td>Evet</td>\n",
       "      <td>...</td>\n",
       "      <td>0</td>\n",
       "      <td>Hayır</td>\n",
       "      <td>NaN</td>\n",
       "      <td>Evet</td>\n",
       "      <td>Hayır</td>\n",
       "      <td>NaN</td>\n",
       "      <td>NaN</td>\n",
       "      <td>NaN</td>\n",
       "      <td>NaN</td>\n",
       "      <td>3</td>\n",
       "    </tr>\n",
       "    <tr>\n",
       "      <th>4</th>\n",
       "      <td>2014</td>\n",
       "      <td>24.0</td>\n",
       "      <td>Erkek</td>\n",
       "      <td>2 Kasim 1992</td>\n",
       "      <td>Ankara/Altındağ</td>\n",
       "      <td>Ankara</td>\n",
       "      <td>TURGUT ÖZAL ÜNİVERSİTESİ</td>\n",
       "      <td>Özel</td>\n",
       "      <td>100.0</td>\n",
       "      <td>Evet</td>\n",
       "      <td>...</td>\n",
       "      <td>0</td>\n",
       "      <td>Hayır</td>\n",
       "      <td>NaN</td>\n",
       "      <td>Hayır</td>\n",
       "      <td>Hayır</td>\n",
       "      <td>NaN</td>\n",
       "      <td>NaN</td>\n",
       "      <td>NaN</td>\n",
       "      <td>NaN</td>\n",
       "      <td>4</td>\n",
       "    </tr>\n",
       "  </tbody>\n",
       "</table>\n",
       "<p>5 rows × 44 columns</p>\n",
       "</div>"
      ],
      "text/plain": [
       "   Basvuru Yili  Degerlendirme Puani Cinsiyet  Dogum Tarihi        Dogum Yeri  \\\n",
       "0          2014                 52.0    Erkek      4/6/1994  Altindag, Ankara   \n",
       "1          2014                 30.0    Erkek     6/11/1993           Üsküdar   \n",
       "2          2014                 18.0    Erkek     1/15/1986            Samsun   \n",
       "3          2014                 40.0    Erkek      6/4/1991        Diyarbakır   \n",
       "4          2014                 24.0    Erkek  2 Kasim 1992   Ankara/Altındağ   \n",
       "\n",
       "  Ikametgah Sehri                    Universite Adi Universite Turu  \\\n",
       "0          Ankara           İHSAN DOĞRAMACI BİLKENT            Özel   \n",
       "1        İstanbul           İHSAN DOĞRAMACI BİLKENT            Özel   \n",
       "2        İstanbul  ULUSLARARASI KIBRIS ÜNİVERSİTESİ            Özel   \n",
       "3        İstanbul       İSTANBUL ŞEHİR ÜNİVERSİTESİ            Özel   \n",
       "4          Ankara          TURGUT ÖZAL ÜNİVERSİTESİ            Özel   \n",
       "\n",
       "   Burslu ise Burs Yuzdesi Burs Aliyor mu?  ... Spor Dalindaki Rolunuz Nedir?  \\\n",
       "0                    100.0            Evet  ...                         Diğer   \n",
       "1                    100.0           Hayır  ...                             0   \n",
       "2                    100.0           Hayır  ...                             0   \n",
       "3                    100.0            Evet  ...                             0   \n",
       "4                    100.0            Evet  ...                             0   \n",
       "\n",
       "  Aktif olarak bir STK üyesi misiniz? Hangi STK'nin Uyesisiniz?  \\\n",
       "0                               Hayır                       NaN   \n",
       "1                               Hayır                       NaN   \n",
       "2                               Hayır                       NaN   \n",
       "3                               Hayır                       NaN   \n",
       "4                               Hayır                       NaN   \n",
       "\n",
       "  Stk Projesine Katildiniz Mi? Girisimcilikle Ilgili Deneyiminiz Var Mi?  \\\n",
       "0                         Evet                                     Hayır   \n",
       "1                         Evet                                      Evet   \n",
       "2                        Hayır                                     Hayır   \n",
       "3                         Evet                                     Hayır   \n",
       "4                        Hayır                                     Hayır   \n",
       "\n",
       "  Girisimcilikle Ilgili Deneyiminizi Aciklayabilir misiniz?  \\\n",
       "0                                                NaN          \n",
       "1  Bilkent Cyberparkta bir şirkette Türkiye nin i...          \n",
       "2                                                NaN          \n",
       "3                                                NaN          \n",
       "4                                                NaN          \n",
       "\n",
       "  Ingilizce Biliyor musunuz? Ingilizce Seviyeniz?  \\\n",
       "0                        NaN                  NaN   \n",
       "1                        NaN                  NaN   \n",
       "2                        NaN                  NaN   \n",
       "3                        NaN                  NaN   \n",
       "4                        NaN                  NaN   \n",
       "\n",
       "  Daha Önceden Mezun Olunduysa, Mezun Olunan Üniversite id  \n",
       "0                                                NaN     0  \n",
       "1                                                NaN     1  \n",
       "2                                                NaN     2  \n",
       "3                                                NaN     3  \n",
       "4                                                NaN     4  \n",
       "\n",
       "[5 rows x 44 columns]"
      ]
     },
     "execution_count": 33,
     "metadata": {},
     "output_type": "execute_result"
    }
   ],
   "source": [
    "#pd.set_option('display.max_rows', None)  \n",
    "#pd.set_option('display.max_columns', None) \n",
    "\n",
    "# warnings.filterwarnings('ignore')\n",
    "\n",
    "df = pd.read_csv(\"train.csv\")\n",
    "df.head()"
   ]
  },
  {
   "cell_type": "code",
   "execution_count": 34,
   "id": "d4d4d573-2b7b-4312-8d28-16eda1a2c6fb",
   "metadata": {},
   "outputs": [
    {
     "data": {
      "text/plain": [
       "Basvuru Yili                                                     0\n",
       "Burs Aliyor mu?                                                  0\n",
       "id                                                               0\n",
       "Degerlendirme Puani                                              1\n",
       "Universite Adi                                                 132\n",
       "Cinsiyet                                                       169\n",
       "Dogum Tarihi                                                   177\n",
       "Bölüm                                                          231\n",
       "Baska Bir Kurumdan Burs Aliyor mu?                             231\n",
       "Universite Turu                                                255\n",
       "Universite Kacinci Sinif                                       374\n",
       "Lise Adi                                                       384\n",
       "Anne Egitim Durumu                                             406\n",
       "Dogum Yeri                                                     791\n",
       "Lise Turu                                                      847\n",
       "Baba Egitim Durumu                                            1007\n",
       "Lise Bolumu                                                   1009\n",
       "Lise Sehir                                                    1054\n",
       "Profesyonel Bir Spor Daliyla Mesgul musunuz?                  1115\n",
       "Kardes Sayisi                                                 1132\n",
       "Girisimcilik Kulupleri Tarzi Bir Kulube Uye misiniz?          1829\n",
       "Ikametgah Sehri                                               2037\n",
       "Universite Not Ortalamasi                                     2753\n",
       "Lise Mezuniyet Notu                                           5917\n",
       "Ingilizce Biliyor musunuz?                                    6454\n",
       "Anne Calisma Durumu                                          11896\n",
       "Baba Calisma Durumu                                          12618\n",
       "Girisimcilikle Ilgili Deneyiminiz Var Mi?                    12840\n",
       "Aktif olarak bir STK üyesi misiniz?                          12842\n",
       "Baba Sektor                                                  20378\n",
       "Stk Projesine Katildiniz Mi?                                 28308\n",
       "Spor Dalindaki Rolunuz Nedir?                                32275\n",
       "Anne Sektor                                                  34537\n",
       "Ingilizce Seviyeniz?                                         36533\n",
       "Daha Once Baska Bir Universiteden Mezun Olmus                37345\n",
       "Burslu ise Burs Yuzdesi                                      42685\n",
       "Burs Aldigi Baska Kurum                                      43977\n",
       "Baska Kurumdan Aldigi Burs Miktari                           44162\n",
       "Uye Oldugunuz Kulubun Ismi                                   48691\n",
       "Hangi STK'nin Uyesisiniz?                                    49518\n",
       "Girisimcilikle Ilgili Deneyiminizi Aciklayabilir misiniz?    50526\n",
       "Lise Adi Diger                                               60392\n",
       "Lise Bolum Diger                                             63599\n",
       "Daha Önceden Mezun Olunduysa, Mezun Olunan Üniversite        64706\n",
       "dtype: int64"
      ]
     },
     "execution_count": 34,
     "metadata": {},
     "output_type": "execute_result"
    }
   ],
   "source": [
    "df.isnull().sum().sort_values(ascending=True)"
   ]
  },
  {
   "cell_type": "code",
   "execution_count": 35,
   "id": "0e69c433-f612-4f20-8b4e-e444c6fb6181",
   "metadata": {},
   "outputs": [],
   "source": [
    "df = df.dropna(subset=['Degerlendirme Puani'])"
   ]
  },
  {
   "cell_type": "code",
   "execution_count": 69,
   "id": "1ffd0164-e1d7-4117-ac69-ee386c474191",
   "metadata": {},
   "outputs": [],
   "source": [
    "def how_many_types(dataframe, col_name):\n",
    "    \n",
    "    diff_types = set(dataframe[col_name].apply(type))\n",
    "    num_of_diff_types =len(diff_types)\n",
    "    print(f\"Sütunda {num_of_diff_types} farklı veri tipi var: {diff_types} \")\n",
    "\n",
    "# Bütün harfleri küçük yapma\n",
    "def all_letters_lowered(dataframe, col_name):\n",
    "    \"\"\"\n",
    "    Belirtilen bir sütundaki tüm string değerleri küçük harfe çevirir.\n",
    "    \n",
    "    Parametreler:\n",
    "    dataframe (pd.DataFrame): İşlem yapılacak DataFrame.\n",
    "    col_name (str): Tüm string değerlerinin küçük harfe çevrileceği sütunun adı.\n",
    "    \n",
    "    İşlev:\n",
    "    - Verilen sütundaki tüm string ifadeler `.str.lower()` ile küçük harfe dönüştürülür.\n",
    "    \n",
    "    Not:\n",
    "    - Bu fonksiyon doğrudan orijinal DataFrame üzerinde değişiklik yapar (`inplace=True` gibi davranır).\n",
    "    \n",
    "    Örnek kullanım:\n",
    "    all_letters_lowered(df, 'column_name')\n",
    "    \"\"\"\n",
    "    dataframe[col_name] = dataframe[col_name].str.lower()\n",
    "\n",
    "\n",
    "# Eşsiz değerleri ve NaN değerleri görme\n",
    "def values_and_nulls(dataframe, col_name):\n",
    "    \"\"\"\n",
    "    Belirtilen bir sütundaki eşsiz değerleri ve NaN değerlerinin sayısını gösterir.\n",
    "    \n",
    "    Parametreler:\n",
    "    dataframe (pd.DataFrame): İşlem yapılacak DataFrame.\n",
    "    col_name (str): Eşsiz değerlerin ve NaN değerlerinin sayısının hesaplanacağı sütun adı.\n",
    "    \n",
    "    İşlev:\n",
    "    1. Sütundaki eşsiz değerleri ve bu değerlerin kaç kere tekrar ettiğini gösterir.\n",
    "    2. Sütundaki NaN (eksik) değerlerin sayısını gösterir.\n",
    "    \n",
    "    Çıktı:\n",
    "    - Sütundaki eşsiz değerlerin sıklığı.\n",
    "    - NaN değerlerin sayısı.\n",
    "    \"\"\"\n",
    "    print(dataframe[col_name].value_counts(), end=\"\\n\\n\")\n",
    "    print(\"NaN: \", dataframe[col_name].isnull().sum())\n",
    "\n",
    "# NaN değerleri doldurma\n",
    "def fill_missing_values(dataframe, col_name, value):\n",
    "    \"\"\"\n",
    "    DataFrame'deki belirli bir sütundaki eksik (NaN) değerleri verilen değer ile doldurur.\n",
    "    \n",
    "    Parametreler:\n",
    "    df (pd.DataFrame): İşlem yapılacak DataFrame.\n",
    "    column (str): Eksik değerlerin doldurulacağı sütunun adı.\n",
    "    value: Eksik değerlerin yerine yazılacak değer.\n",
    "    \"\"\"\n",
    "    dataframe[col_name] = dataframe[col_name].fillna(value)\n",
    "\n",
    "    "
   ]
  },
  {
   "cell_type": "markdown",
   "id": "67623780-496a-42c1-adf7-708cf3bb450e",
   "metadata": {},
   "source": [
    "# CİNSİYET"
   ]
  },
  {
   "cell_type": "code",
   "execution_count": 37,
   "id": "1518e265-6145-4822-b731-09e4e62a5f1b",
   "metadata": {},
   "outputs": [
    {
     "name": "stdout",
     "output_type": "stream",
     "text": [
      "Cinsiyet\n",
      "Kadın                    32076\n",
      "Erkek                    22752\n",
      "ERKEK                    10012\n",
      "Belirtmek istemiyorum      115\n",
      "Name: count, dtype: int64\n",
      "\n",
      "NaN:  169\n"
     ]
    }
   ],
   "source": [
    "values_and_nulls(df, \"Cinsiyet\")"
   ]
  },
  {
   "cell_type": "code",
   "execution_count": 38,
   "id": "16d05136-3584-41a7-a617-67d31187749e",
   "metadata": {},
   "outputs": [],
   "source": [
    "all_letters_lowered(df,\"Cinsiyet\")\n",
    "fill_missing_values(df, \"Cinsiyet\", \"Belirtmek istemiyorum\")"
   ]
  },
  {
   "cell_type": "code",
   "execution_count": 39,
   "id": "7eca78c9-5c2e-4a40-8344-109f4b57252a",
   "metadata": {},
   "outputs": [],
   "source": [
    "mapping_sex = {\"erkek\": 1, \"kadın\": 2, \"Belirtmek istemiyorum\": 0}\n",
    "df[\"Cinsiyet\"] = df[\"Cinsiyet\"].map(mapping_sex)\n",
    "df[\"Cinsiyet\"] = df[\"Cinsiyet\"].fillna(0).astype(int)"
   ]
  },
  {
   "cell_type": "code",
   "execution_count": 40,
   "id": "40a70fd5-a524-40c2-800c-09f68984c5c1",
   "metadata": {},
   "outputs": [
    {
     "name": "stdout",
     "output_type": "stream",
     "text": [
      "Cinsiyet\n",
      "1    32764\n",
      "2    32076\n",
      "0      284\n",
      "Name: count, dtype: int64\n",
      "\n",
      "NaN:  0\n"
     ]
    }
   ],
   "source": [
    "values_and_nulls(df, \"Cinsiyet\")"
   ]
  },
  {
   "cell_type": "markdown",
   "id": "f8fc80d3-00fc-42a3-98d5-6d46e0503dd7",
   "metadata": {},
   "source": [
    "# DOĞUM TARİHİ"
   ]
  },
  {
   "cell_type": "code",
   "execution_count": 41,
   "id": "ee2b392a-e15b-4cca-b2b2-a41cf4050a2c",
   "metadata": {
    "scrolled": true
   },
   "outputs": [
    {
     "name": "stdout",
     "output_type": "stream",
     "text": [
      "Dogum Tarihi\n",
      "1/1/70 2:00         1655\n",
      "1/1/00 0:00          179\n",
      "1/1/01 0:00          154\n",
      "1/1/1997             139\n",
      "1/1/1998             129\n",
      "                    ... \n",
      "1992-05-12             1\n",
      "1997-03-19             1\n",
      "1996-08-17             1\n",
      "1991-04-23             1\n",
      "12.11.2003 00:00       1\n",
      "Name: count, Length: 13498, dtype: int64\n",
      "\n",
      "NaN:  177\n"
     ]
    }
   ],
   "source": [
    "values_and_nulls(df, \"Dogum Tarihi\")"
   ]
  },
  {
   "cell_type": "code",
   "execution_count": 42,
   "id": "c9effec3-494f-4c13-b1c2-1500834feb77",
   "metadata": {},
   "outputs": [],
   "source": [
    "df['Dogum Tarihi'] = pd.to_datetime(df['Dogum Tarihi'], errors='coerce')"
   ]
  },
  {
   "cell_type": "code",
   "execution_count": 43,
   "id": "c21f3c0a-0ce3-4877-be95-6db461899e1f",
   "metadata": {},
   "outputs": [
    {
     "data": {
      "text/plain": [
       "0       1994-04-06\n",
       "1       1993-06-11\n",
       "2       1986-01-15\n",
       "3       1991-06-04\n",
       "4              NaT\n",
       "           ...    \n",
       "65119          NaT\n",
       "65120          NaT\n",
       "65121          NaT\n",
       "65122          NaT\n",
       "65123          NaT\n",
       "Name: Dogum Tarihi, Length: 65124, dtype: datetime64[ns]"
      ]
     },
     "execution_count": 43,
     "metadata": {},
     "output_type": "execute_result"
    }
   ],
   "source": [
    "df[\"Dogum Tarihi\"]"
   ]
  },
  {
   "cell_type": "code",
   "execution_count": 44,
   "id": "dcef763e-929e-431e-8d65-da4e67a1d5f9",
   "metadata": {},
   "outputs": [
    {
     "name": "stdout",
     "output_type": "stream",
     "text": [
      "Dogum Tarihi\n",
      "1997-01-01    139\n",
      "1998-01-01    129\n",
      "1996-01-01    119\n",
      "1995-01-01    106\n",
      "1999-01-01     84\n",
      "             ... \n",
      "1992-11-26      1\n",
      "1990-01-08      1\n",
      "1988-04-11      1\n",
      "1990-03-23      1\n",
      "2000-06-07      1\n",
      "Name: count, Length: 3370, dtype: int64\n",
      "\n",
      "NaN:  45937\n"
     ]
    }
   ],
   "source": [
    "values_and_nulls(df,\"Dogum Tarihi\")"
   ]
  },
  {
   "cell_type": "markdown",
   "id": "38ca6cef-4f20-464b-adfc-04837eac44e0",
   "metadata": {},
   "source": [
    "# Dogum Yeri, İkametgah Sehri, Lise Sehir"
   ]
  },
  {
   "cell_type": "code",
   "execution_count": 45,
   "id": "5ba40cb6-7e56-4865-bec6-a10bbab163fc",
   "metadata": {},
   "outputs": [],
   "source": [
    "import re\n",
    "\n",
    "def city_simp(dataframe, col_name):\n",
    "    # Türkiye'nin 81 ili\n",
    "    cities = ['Adana', 'Adıyaman', 'Afyonkarahisar', 'Ağrı', 'Amasya', 'Ankara', 'Antalya', 'Artvin', 'Aydın', 'Balıkesir', 'Bilecik',\n",
    "              'Bingöl', 'Bitlis', 'Bolu', 'Burdur', 'Bursa', 'Çanakkale', 'Çankırı', 'Çorum', 'Denizli', 'Diyarbakır', 'Edirne',\n",
    "              'Elazığ', 'Erzincan', 'Erzurum', 'Eskişehir', 'Gaziantep', 'Giresun', 'Gümüşhane', 'Hakkari', 'Hatay', 'Isparta',\n",
    "              'Mersin', 'İstanbul', 'İzmir', 'Kars', 'Kastamonu', 'Kayseri', 'Kırklareli', 'Kırşehir', 'Kocaeli', 'Konya', 'Kütahya',\n",
    "              'Malatya', 'Manisa', 'Kahramanmaraş', 'Mardin', 'Muğla', 'Muş', 'Nevşehir', 'Niğde', 'Ordu', 'Rize', 'Sakarya',\n",
    "              'Samsun', 'Siirt', 'Sinop', 'Sivas', 'Tekirdağ', 'Tokat', 'Trabzon', 'Tunceli', 'Şanlıurfa', 'Uşak', 'Van', 'Yozgat',\n",
    "              'Zonguldak', 'Aksaray', 'Bayburt', 'Karaman', 'Kırıkkale', 'Batman', 'Şırnak', 'Bartın', 'Ardahan', 'Iğdır',\n",
    "              'Yalova', 'Karabük', 'Kilis', 'Osmaniye', 'Düzce']\n",
    "    \n",
    "    def extract_city(location):\n",
    "        # 'location' bir string değilse, None döndür\n",
    "        if not isinstance(location, str):\n",
    "            return None\n",
    "        \n",
    "        # Şehir isimlerinin geçerli olduğu yerleri bulmak için regex kullanılır\n",
    "        for city in cities:\n",
    "            if re.search(r'\\b' + re.escape(city) + r'\\b', location):\n",
    "                return city\n",
    "        return None\n",
    "    \n",
    "    # Belirtilen sütundaki şehir isimlerini ayıklama\n",
    "    dataframe[col_name] = dataframe[col_name].apply(extract_city)\n"
   ]
  },
  {
   "cell_type": "code",
   "execution_count": 46,
   "id": "2cdaf773-e201-4f45-be86-df5328400406",
   "metadata": {},
   "outputs": [],
   "source": [
    "city_simp(df,\"Dogum Yeri\")\n",
    "city_simp(df,\"Ikametgah Sehri\")\n",
    "city_simp(df, \"Lise Sehir\")\n",
    "\n",
    "fill_missing_values(df,\"Dogum Yeri\",\"Bilinmiyor\")\n",
    "fill_missing_values(df,\"Ikametgah Sehri\",\"Bilinmiyor\")\n",
    "fill_missing_values(df,\"Lise Sehir\",\"Bilinmiyor\")"
   ]
  },
  {
   "cell_type": "code",
   "execution_count": 47,
   "id": "f843cdcc-908b-4114-b0ae-34b6f4eba80c",
   "metadata": {},
   "outputs": [
    {
     "name": "stdout",
     "output_type": "stream",
     "text": [
      "Dogum Yeri\n",
      "Bilinmiyor    9765\n",
      "İstanbul      8865\n",
      "Ankara        4106\n",
      "İzmir         2218\n",
      "Bursa         1839\n",
      "              ... \n",
      "Kilis           97\n",
      "Çankırı         93\n",
      "Gümüşhane       78\n",
      "Bayburt         75\n",
      "Tunceli         50\n",
      "Name: count, Length: 82, dtype: int64\n",
      "\n",
      "NaN:  0\n"
     ]
    }
   ],
   "source": [
    "values_and_nulls(df,\"Dogum Yeri\")"
   ]
  },
  {
   "cell_type": "markdown",
   "id": "7c91178f-0878-496f-a8e9-d26f8b962e3a",
   "metadata": {},
   "source": [
    "# Üniversite Adı"
   ]
  },
  {
   "cell_type": "code",
   "execution_count": 48,
   "id": "f0fd6125-b0bf-4451-b848-580a73ab057f",
   "metadata": {
    "scrolled": true
   },
   "outputs": [
    {
     "name": "stdout",
     "output_type": "stream",
     "text": [
      "Universite Adi\n",
      "İSTANBUL ÜNİVERSİTESİ                      2083\n",
      "MARMARA ÜNİVERSİTESİ                       1672\n",
      "İSTANBUL TEKNİK ÜNİVERSİTESİ               1464\n",
      "YILDIZ TEKNİK ÜNİVERSİTESİ                 1438\n",
      "ORTA DOĞU TEKNİK ÜNİVERSİTESİ              1258\n",
      "                                           ... \n",
      "Brown University                              1\n",
      "ALANYA HAMDULLAH EMİN PAŞA ÜNİVERSİTESİ       1\n",
      "İstanbul Bilim Üniversitesi                   1\n",
      "AVRUPA MESLEK YÜKSEKOKULU                     1\n",
      "İstanbul Atlas Üniversitesi                   1\n",
      "Name: count, Length: 527, dtype: int64\n",
      "\n",
      "NaN:  132\n"
     ]
    }
   ],
   "source": [
    "values_and_nulls(df,\"Universite Adi\")"
   ]
  },
  {
   "cell_type": "code",
   "execution_count": 49,
   "id": "c6de0070-1e3f-4c30-bfcf-8e5d0fae9757",
   "metadata": {},
   "outputs": [],
   "source": [
    "all_letters_lowered(df,\"Universite Adi\")\n",
    "fill_missing_values(df,\"Universite Adi\",\"Bilinmiyor\")"
   ]
  },
  {
   "cell_type": "code",
   "execution_count": 50,
   "id": "75bfa94a-9d51-4583-a397-af2550df2452",
   "metadata": {
    "scrolled": true
   },
   "outputs": [
    {
     "name": "stdout",
     "output_type": "stream",
     "text": [
      "Universite Adi\n",
      "i̇stanbul üni̇versi̇tesi̇                      2083\n",
      "marmara üni̇versi̇tesi̇                        1672\n",
      "i̇stanbul tekni̇k üni̇versi̇tesi̇              1464\n",
      "yildiz tekni̇k üni̇versi̇tesi̇                 1438\n",
      "orta doğu tekni̇k üni̇versi̇tesi̇              1258\n",
      "                                               ... \n",
      "selahaddin eyyubi üniversitesi                    1\n",
      "alanya hamdullah emi̇n paşa üni̇versi̇tesi̇       1\n",
      "turgut özal üniversitesi                          1\n",
      "selahaddi̇n eyyubi̇ üni̇versi̇tesi̇               1\n",
      "i̇stanbul atlas üniversitesi                      1\n",
      "Name: count, Length: 527, dtype: int64\n",
      "\n",
      "NaN:  0\n"
     ]
    }
   ],
   "source": [
    "values_and_nulls(df,\"Universite Adi\")"
   ]
  },
  {
   "cell_type": "markdown",
   "id": "b433f7fb-9ddc-4a11-bc1f-0c9cc9da5491",
   "metadata": {},
   "source": [
    "# Üniversite Türü"
   ]
  },
  {
   "cell_type": "code",
   "execution_count": 51,
   "id": "f2be1414-43df-46f7-bd34-201ad19f26fe",
   "metadata": {},
   "outputs": [
    {
     "name": "stdout",
     "output_type": "stream",
     "text": [
      "Universite Turu\n",
      "devlet    53516\n",
      "özel      11608\n",
      "Name: count, dtype: int64\n",
      "\n",
      "NaN:  0\n"
     ]
    }
   ],
   "source": [
    "all_letters_lowered(df,\"Universite Turu\")\n",
    "fill_missing_values(df,\"Universite Turu\" , \"devlet\")\n",
    "values_and_nulls(df, \"Universite Turu\")\n"
   ]
  },
  {
   "cell_type": "markdown",
   "id": "ead8c7f2-ab34-4dab-bcc9-ccfee266bc35",
   "metadata": {},
   "source": [
    "# Burslu ise Burs Yuzdesi"
   ]
  },
  {
   "cell_type": "code",
   "execution_count": 52,
   "id": "eb3d398b-9371-4260-b453-8f9ab667c4b8",
   "metadata": {
    "scrolled": true
   },
   "outputs": [
    {
     "name": "stdout",
     "output_type": "stream",
     "text": [
      "Burslu ise Burs Yuzdesi\n",
      "0.0      54856\n",
      "100.0     5049\n",
      "50.0      3149\n",
      "75.0      1002\n",
      "25.0       785\n",
      "10.0        50\n",
      "60.0        27\n",
      "1.0         26\n",
      "65.0        17\n",
      "80.0        15\n",
      "5.0         14\n",
      "30.0        14\n",
      "85.0        11\n",
      "2.0         10\n",
      "55.0         8\n",
      "62.5         7\n",
      "62.0         7\n",
      "35.0         7\n",
      "45.0         6\n",
      "7.0          6\n",
      "70.0         5\n",
      "99.0         5\n",
      "20.0         5\n",
      "40.0         4\n",
      "90.0         4\n",
      "63.0         4\n",
      "6.0          4\n",
      "3.0          2\n",
      "8.0          2\n",
      "98.0         2\n",
      "46.0         1\n",
      "82.5         1\n",
      "69.0         1\n",
      "88.0         1\n",
      "64.0         1\n",
      "4.0          1\n",
      "87.5         1\n",
      "57.5         1\n",
      "57.0         1\n",
      "91.5         1\n",
      "11.0         1\n",
      "41.5         1\n",
      "49.0         1\n",
      "74.0         1\n",
      "72.0         1\n",
      "32.0         1\n",
      "48.0         1\n",
      "37.0         1\n",
      "67.0         1\n",
      "41.0         1\n",
      "67.5         1\n",
      "Name: count, dtype: int64\n",
      "\n",
      "NaN:  0\n"
     ]
    }
   ],
   "source": [
    "fill_missing_values(df,\"Burslu ise Burs Yuzdesi\",0)\n",
    "values_and_nulls(df, \"Burslu ise Burs Yuzdesi\")"
   ]
  },
  {
   "cell_type": "code",
   "execution_count": 53,
   "id": "91910c58-1d27-4c11-9897-ba5b72d47cc2",
   "metadata": {},
   "outputs": [],
   "source": [
    "bins = [-1, 10, 20, 30, 40, 50, 60, 70, 80, 90, 100]\n",
    "labels = ['0-10', '11-20', '21-30', '31-40', '41-50', '51-60', '61-70', '71-80', '81-90', '91-100']\n",
    "\n",
    "df['Burslu ise Burs Yuzdesi'] = pd.cut(df['Burslu ise Burs Yuzdesi'], bins=bins, labels=labels, right=True)"
   ]
  },
  {
   "cell_type": "code",
   "execution_count": 54,
   "id": "775689f3-fedb-4d7c-b09d-0a0e3bb44253",
   "metadata": {
    "scrolled": true
   },
   "outputs": [
    {
     "name": "stdout",
     "output_type": "stream",
     "text": [
      "Burslu ise Burs Yuzdesi\n",
      "0-10      54971\n",
      "91-100     5057\n",
      "41-50      3160\n",
      "71-80      1019\n",
      "21-30       799\n",
      "61-70        44\n",
      "51-60        37\n",
      "81-90        18\n",
      "31-40        13\n",
      "11-20         6\n",
      "Name: count, dtype: int64\n",
      "\n",
      "NaN:  0\n"
     ]
    }
   ],
   "source": [
    "values_and_nulls(df,\"Burslu ise Burs Yuzdesi\")"
   ]
  },
  {
   "cell_type": "markdown",
   "id": "8aaafcbc-31c1-45ab-8edc-aaede7324fb4",
   "metadata": {},
   "source": [
    "# Burs Aliyor mu?"
   ]
  },
  {
   "cell_type": "code",
   "execution_count": 58,
   "id": "c2e15547-59bd-4924-93e4-0d55425f1f09",
   "metadata": {},
   "outputs": [],
   "source": [
    "all_letters_lowered(df, \"Burs Aliyor mu?\")"
   ]
  },
  {
   "cell_type": "code",
   "execution_count": 59,
   "id": "78fb7dbb-53b7-4cdd-affe-75011643b839",
   "metadata": {},
   "outputs": [
    {
     "name": "stdout",
     "output_type": "stream",
     "text": [
      "Burs Aliyor mu?\n",
      "hayır    52249\n",
      "evet     12875\n",
      "Name: count, dtype: int64\n",
      "\n",
      "NaN:  0\n"
     ]
    }
   ],
   "source": [
    "values_and_nulls(df,\"Burs Aliyor mu?\")"
   ]
  },
  {
   "cell_type": "markdown",
   "id": "34d5ee45-9d83-4e39-9d8a-830d07142240",
   "metadata": {},
   "source": [
    "# Bölüm"
   ]
  },
  {
   "cell_type": "code",
   "execution_count": 60,
   "id": "dae36628-a685-440f-91f3-fa1f56124bbb",
   "metadata": {
    "scrolled": true
   },
   "outputs": [
    {
     "name": "stdout",
     "output_type": "stream",
     "text": [
      "<class 'pandas.core.frame.DataFrame'>\n",
      "Index: 65124 entries, 0 to 65123\n",
      "Data columns (total 44 columns):\n",
      " #   Column                                                     Non-Null Count  Dtype         \n",
      "---  ------                                                     --------------  -----         \n",
      " 0   Basvuru Yili                                               65124 non-null  int64         \n",
      " 1   Degerlendirme Puani                                        65124 non-null  float64       \n",
      " 2   Cinsiyet                                                   65124 non-null  int32         \n",
      " 3   Dogum Tarihi                                               19187 non-null  datetime64[ns]\n",
      " 4   Dogum Yeri                                                 65124 non-null  object        \n",
      " 5   Ikametgah Sehri                                            65124 non-null  object        \n",
      " 6   Universite Adi                                             65124 non-null  object        \n",
      " 7   Universite Turu                                            65124 non-null  object        \n",
      " 8   Burslu ise Burs Yuzdesi                                    65124 non-null  category      \n",
      " 9   Burs Aliyor mu?                                            65124 non-null  object        \n",
      " 10  Bölüm                                                      64893 non-null  object        \n",
      " 11  Universite Kacinci Sinif                                   64750 non-null  object        \n",
      " 12  Universite Not Ortalamasi                                  62371 non-null  object        \n",
      " 13  Daha Once Baska Bir Universiteden Mezun Olmus              27780 non-null  object        \n",
      " 14  Lise Adi                                                   64740 non-null  object        \n",
      " 15  Lise Adi Diger                                             4733 non-null   object        \n",
      " 16  Lise Sehir                                                 65124 non-null  object        \n",
      " 17  Lise Turu                                                  64277 non-null  object        \n",
      " 18  Lise Bolumu                                                64115 non-null  object        \n",
      " 19  Lise Bolum Diger                                           1526 non-null   object        \n",
      " 20  Lise Mezuniyet Notu                                        59207 non-null  object        \n",
      " 21  Baska Bir Kurumdan Burs Aliyor mu?                         64893 non-null  object        \n",
      " 22  Burs Aldigi Baska Kurum                                    21147 non-null  object        \n",
      " 23  Baska Kurumdan Aldigi Burs Miktari                         20962 non-null  object        \n",
      " 24  Anne Egitim Durumu                                         64718 non-null  object        \n",
      " 25  Anne Calisma Durumu                                        53228 non-null  object        \n",
      " 26  Anne Sektor                                                30587 non-null  object        \n",
      " 27  Baba Egitim Durumu                                         64117 non-null  object        \n",
      " 28  Baba Calisma Durumu                                        52506 non-null  object        \n",
      " 29  Baba Sektor                                                44746 non-null  object        \n",
      " 30  Kardes Sayisi                                              63992 non-null  object        \n",
      " 31  Girisimcilik Kulupleri Tarzi Bir Kulube Uye misiniz?       63295 non-null  object        \n",
      " 32  Uye Oldugunuz Kulubun Ismi                                 16434 non-null  object        \n",
      " 33  Profesyonel Bir Spor Daliyla Mesgul musunuz?               64009 non-null  object        \n",
      " 34  Spor Dalindaki Rolunuz Nedir?                              32849 non-null  object        \n",
      " 35  Aktif olarak bir STK üyesi misiniz?                        52282 non-null  object        \n",
      " 36  Hangi STK'nin Uyesisiniz?                                  15606 non-null  object        \n",
      " 37  Stk Projesine Katildiniz Mi?                               36817 non-null  object        \n",
      " 38  Girisimcilikle Ilgili Deneyiminiz Var Mi?                  52284 non-null  object        \n",
      " 39  Girisimcilikle Ilgili Deneyiminizi Aciklayabilir misiniz?  14598 non-null  object        \n",
      " 40  Ingilizce Biliyor musunuz?                                 58670 non-null  object        \n",
      " 41  Ingilizce Seviyeniz?                                       28592 non-null  object        \n",
      " 42  Daha Önceden Mezun Olunduysa, Mezun Olunan Üniversite      419 non-null    object        \n",
      " 43  id                                                         65124 non-null  int64         \n",
      "dtypes: category(1), datetime64[ns](1), float64(1), int32(1), int64(2), object(38)\n",
      "memory usage: 21.7+ MB\n"
     ]
    }
   ],
   "source": [
    "df.info()"
   ]
  },
  {
   "cell_type": "markdown",
   "id": "758359e5-f1dc-4b03-a023-7e70aca2d9be",
   "metadata": {},
   "source": [
    "# Universite Kacinci Sinif"
   ]
  },
  {
   "cell_type": "code",
   "execution_count": null,
   "id": "2fe9d213-de76-4251-ae28-2533e0295a60",
   "metadata": {},
   "outputs": [],
   "source": []
  },
  {
   "cell_type": "code",
   "execution_count": 61,
   "id": "e5abc1e0-48b1-46f6-83f0-9bdb11a7575d",
   "metadata": {},
   "outputs": [
    {
     "name": "stdout",
     "output_type": "stream",
     "text": [
      "Universite Kacinci Sinif\n",
      "2                21773\n",
      "3                16956\n",
      "4                13112\n",
      "1                10260\n",
      "Hazırlık          1275\n",
      "5                  961\n",
      "Mezun              178\n",
      "6                  177\n",
      "hazırlık            33\n",
      "Yüksek Lisans       15\n",
      "Tez                  7\n",
      "0                    3\n",
      "Name: count, dtype: int64\n",
      "\n",
      "NaN:  374\n"
     ]
    }
   ],
   "source": [
    "values_and_nulls(df, \"Universite Kacinci Sinif\")"
   ]
  },
  {
   "cell_type": "code",
   "execution_count": 62,
   "id": "a5256fe1-a9c6-40b2-bfda-d3bf66752fd9",
   "metadata": {},
   "outputs": [],
   "source": [
    "all_letters_lowered(df,\"Universite Kacinci Sinif\")"
   ]
  },
  {
   "cell_type": "code",
   "execution_count": 63,
   "id": "d390de32-f00e-4a97-ba41-6a381f54bca0",
   "metadata": {},
   "outputs": [
    {
     "name": "stdout",
     "output_type": "stream",
     "text": [
      "Universite Kacinci Sinif\n",
      "2                21773\n",
      "3                16956\n",
      "4                13112\n",
      "1                10260\n",
      "hazırlık          1308\n",
      "5                  961\n",
      "mezun              178\n",
      "6                  177\n",
      "yüksek lisans       15\n",
      "tez                  7\n",
      "0                    3\n",
      "Name: count, dtype: int64\n",
      "\n",
      "NaN:  374\n"
     ]
    }
   ],
   "source": [
    "values_and_nulls(df,\"Universite Kacinci Sinif\")"
   ]
  },
  {
   "cell_type": "code",
   "execution_count": 84,
   "id": "15cb586e-8547-4205-89f7-a32d74ae7e74",
   "metadata": {},
   "outputs": [
    {
     "name": "stdout",
     "output_type": "stream",
     "text": [
      "Universite Kacinci Sinif\n",
      "2    22147\n",
      "3    16956\n",
      "4    13112\n",
      "1    10260\n",
      "0     1308\n",
      "5      961\n",
      "7      178\n",
      "6      177\n",
      "8       15\n",
      "9        7\n",
      "0        3\n",
      "Name: count, dtype: int64\n",
      "\n",
      "NaN:  0\n"
     ]
    }
   ],
   "source": [
    "# Mod ile doldurdum.\n",
    "mode_value = df['Universite Kacinci Sinif'].mode()[0]\n",
    "fill_missing_values(df,\"Universite Kacinci Sinif\", mode_value)\n",
    "values_and_nulls(df,\"Universite Kacinci Sinif\")"
   ]
  },
  {
   "cell_type": "code",
   "execution_count": 85,
   "id": "bfe39bc4-bfe6-4294-846d-4914eb9e6b27",
   "metadata": {},
   "outputs": [
    {
     "name": "stdout",
     "output_type": "stream",
     "text": [
      "Sütunda 2 farklı veri tipi var: {<class 'str'>, <class 'int'>} \n"
     ]
    }
   ],
   "source": [
    "how_many_types(df,\"Universite Kacinci Sinif\")"
   ]
  },
  {
   "cell_type": "code",
   "execution_count": 86,
   "id": "d12e0f5d-db01-4b49-8cd0-f746fdaab94c",
   "metadata": {},
   "outputs": [
    {
     "name": "stderr",
     "output_type": "stream",
     "text": [
      "C:\\Users\\fbdog\\AppData\\Local\\Temp\\ipykernel_1680\\1616783836.py:15: FutureWarning: Downcasting behavior in `replace` is deprecated and will be removed in a future version. To retain the old behavior, explicitly call `result.infer_objects(copy=False)`. To opt-in to the future behavior, set `pd.set_option('future.no_silent_downcasting', True)`\n",
      "  df['Universite Kacinci Sinif'].replace(grades)\n"
     ]
    },
    {
     "data": {
      "text/plain": [
       "0        3\n",
       "1        3\n",
       "2        1\n",
       "3        3\n",
       "4        2\n",
       "        ..\n",
       "65119    2\n",
       "65120    2\n",
       "65121    1\n",
       "65122    4\n",
       "65123    3\n",
       "Name: Universite Kacinci Sinif, Length: 65124, dtype: int64"
      ]
     },
     "execution_count": 86,
     "metadata": {},
     "output_type": "execute_result"
    }
   ],
   "source": [
    "grades = {\n",
    "    '0': 7,\n",
    "    '1' : 1,\n",
    "    '2': 2,\n",
    "    '3':3,\n",
    "    '4':4,\n",
    "    '5':5,\n",
    "    '6':6,\n",
    "    'hazırlık': 0,\n",
    "    'mezun': 7,\n",
    "    'yüksek lisans': 8,\n",
    "    'tez': 9\n",
    "}\n",
    "\n",
    "df['Universite Kacinci Sinif'].replace(grades)"
   ]
  },
  {
   "cell_type": "code",
   "execution_count": 87,
   "id": "c024e657-7ddc-4997-94f6-3377f7d9ca20",
   "metadata": {},
   "outputs": [
    {
     "name": "stdout",
     "output_type": "stream",
     "text": [
      "Sütunda 2 farklı veri tipi var: {<class 'str'>, <class 'int'>} \n"
     ]
    }
   ],
   "source": [
    "how_many_types(df,\"Universite Kacinci Sinif\")"
   ]
  },
  {
   "cell_type": "code",
   "execution_count": 88,
   "id": "dc7bca54-d318-4b05-a445-18e4f631ce93",
   "metadata": {},
   "outputs": [
    {
     "data": {
      "text/plain": [
       "11"
      ]
     },
     "execution_count": 88,
     "metadata": {},
     "output_type": "execute_result"
    }
   ],
   "source": [
    "df[\"Universite Kacinci Sinif\"].nunique()"
   ]
  },
  {
   "cell_type": "code",
   "execution_count": null,
   "id": "fb490ae2-ab08-4ed2-89d2-bed2f66766f4",
   "metadata": {},
   "outputs": [],
   "source": []
  },
  {
   "cell_type": "code",
   "execution_count": null,
   "id": "0c1c3abd-3b5f-433d-8774-7ef9c6f86fb0",
   "metadata": {},
   "outputs": [],
   "source": []
  }
 ],
 "metadata": {
  "kernelspec": {
   "display_name": "Python 3 (ipykernel)",
   "language": "python",
   "name": "python3"
  },
  "language_info": {
   "codemirror_mode": {
    "name": "ipython",
    "version": 3
   },
   "file_extension": ".py",
   "mimetype": "text/x-python",
   "name": "python",
   "nbconvert_exporter": "python",
   "pygments_lexer": "ipython3",
   "version": "3.12.3"
  }
 },
 "nbformat": 4,
 "nbformat_minor": 5
}
