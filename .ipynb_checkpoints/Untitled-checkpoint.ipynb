{
 "cells": [
  {
   "cell_type": "code",
   "execution_count": 1,
   "id": "f37d69a1-a52b-40d9-9151-3b85cff959f7",
   "metadata": {},
   "outputs": [],
   "source": [
    "import numpy as np\n",
    "import pandas as pd\n",
    "import matplotlib.pyplot as plt\n",
    "import seaborn as sns\n",
    "import warnings \n",
    "from datetime import datetime"
   ]
  },
  {
   "cell_type": "code",
   "execution_count": 2,
   "id": "b5db3ce9-75cf-4685-9f11-0d54e75b0431",
   "metadata": {},
   "outputs": [
    {
     "name": "stderr",
     "output_type": "stream",
     "text": [
      "C:\\Users\\fbdog\\AppData\\Local\\Temp\\ipykernel_11984\\2804812056.py:6: DtypeWarning: Columns (13,15,19,30,32,37,41,42) have mixed types. Specify dtype option on import or set low_memory=False.\n",
      "  df = pd.read_csv(\"train.csv\")\n"
     ]
    },
    {
     "data": {
      "text/html": [
       "<div>\n",
       "<style scoped>\n",
       "    .dataframe tbody tr th:only-of-type {\n",
       "        vertical-align: middle;\n",
       "    }\n",
       "\n",
       "    .dataframe tbody tr th {\n",
       "        vertical-align: top;\n",
       "    }\n",
       "\n",
       "    .dataframe thead th {\n",
       "        text-align: right;\n",
       "    }\n",
       "</style>\n",
       "<table border=\"1\" class=\"dataframe\">\n",
       "  <thead>\n",
       "    <tr style=\"text-align: right;\">\n",
       "      <th></th>\n",
       "      <th>Basvuru Yili</th>\n",
       "      <th>Degerlendirme Puani</th>\n",
       "      <th>Cinsiyet</th>\n",
       "      <th>Dogum Tarihi</th>\n",
       "      <th>Dogum Yeri</th>\n",
       "      <th>Ikametgah Sehri</th>\n",
       "      <th>Universite Adi</th>\n",
       "      <th>Universite Turu</th>\n",
       "      <th>Burslu ise Burs Yuzdesi</th>\n",
       "      <th>Burs Aliyor mu?</th>\n",
       "      <th>...</th>\n",
       "      <th>Spor Dalindaki Rolunuz Nedir?</th>\n",
       "      <th>Aktif olarak bir STK üyesi misiniz?</th>\n",
       "      <th>Hangi STK'nin Uyesisiniz?</th>\n",
       "      <th>Stk Projesine Katildiniz Mi?</th>\n",
       "      <th>Girisimcilikle Ilgili Deneyiminiz Var Mi?</th>\n",
       "      <th>Girisimcilikle Ilgili Deneyiminizi Aciklayabilir misiniz?</th>\n",
       "      <th>Ingilizce Biliyor musunuz?</th>\n",
       "      <th>Ingilizce Seviyeniz?</th>\n",
       "      <th>Daha Önceden Mezun Olunduysa, Mezun Olunan Üniversite</th>\n",
       "      <th>id</th>\n",
       "    </tr>\n",
       "  </thead>\n",
       "  <tbody>\n",
       "    <tr>\n",
       "      <th>0</th>\n",
       "      <td>2014</td>\n",
       "      <td>52.0</td>\n",
       "      <td>Erkek</td>\n",
       "      <td>4/6/1994</td>\n",
       "      <td>Altindag, Ankara</td>\n",
       "      <td>Ankara</td>\n",
       "      <td>İHSAN DOĞRAMACI BİLKENT</td>\n",
       "      <td>Özel</td>\n",
       "      <td>100.0</td>\n",
       "      <td>Evet</td>\n",
       "      <td>...</td>\n",
       "      <td>Diğer</td>\n",
       "      <td>Hayır</td>\n",
       "      <td>NaN</td>\n",
       "      <td>Evet</td>\n",
       "      <td>Hayır</td>\n",
       "      <td>NaN</td>\n",
       "      <td>NaN</td>\n",
       "      <td>NaN</td>\n",
       "      <td>NaN</td>\n",
       "      <td>0</td>\n",
       "    </tr>\n",
       "    <tr>\n",
       "      <th>1</th>\n",
       "      <td>2014</td>\n",
       "      <td>30.0</td>\n",
       "      <td>Erkek</td>\n",
       "      <td>6/11/1993</td>\n",
       "      <td>Üsküdar</td>\n",
       "      <td>İstanbul</td>\n",
       "      <td>İHSAN DOĞRAMACI BİLKENT</td>\n",
       "      <td>Özel</td>\n",
       "      <td>100.0</td>\n",
       "      <td>Hayır</td>\n",
       "      <td>...</td>\n",
       "      <td>0</td>\n",
       "      <td>Hayır</td>\n",
       "      <td>NaN</td>\n",
       "      <td>Evet</td>\n",
       "      <td>Evet</td>\n",
       "      <td>Bilkent Cyberparkta bir şirkette Türkiye nin i...</td>\n",
       "      <td>NaN</td>\n",
       "      <td>NaN</td>\n",
       "      <td>NaN</td>\n",
       "      <td>1</td>\n",
       "    </tr>\n",
       "    <tr>\n",
       "      <th>2</th>\n",
       "      <td>2014</td>\n",
       "      <td>18.0</td>\n",
       "      <td>Erkek</td>\n",
       "      <td>1/15/1986</td>\n",
       "      <td>Samsun</td>\n",
       "      <td>İstanbul</td>\n",
       "      <td>ULUSLARARASI KIBRIS ÜNİVERSİTESİ</td>\n",
       "      <td>Özel</td>\n",
       "      <td>100.0</td>\n",
       "      <td>Hayır</td>\n",
       "      <td>...</td>\n",
       "      <td>0</td>\n",
       "      <td>Hayır</td>\n",
       "      <td>NaN</td>\n",
       "      <td>Hayır</td>\n",
       "      <td>Hayır</td>\n",
       "      <td>NaN</td>\n",
       "      <td>NaN</td>\n",
       "      <td>NaN</td>\n",
       "      <td>NaN</td>\n",
       "      <td>2</td>\n",
       "    </tr>\n",
       "    <tr>\n",
       "      <th>3</th>\n",
       "      <td>2014</td>\n",
       "      <td>40.0</td>\n",
       "      <td>Erkek</td>\n",
       "      <td>6/4/1991</td>\n",
       "      <td>Diyarbakır</td>\n",
       "      <td>İstanbul</td>\n",
       "      <td>İSTANBUL ŞEHİR ÜNİVERSİTESİ</td>\n",
       "      <td>Özel</td>\n",
       "      <td>100.0</td>\n",
       "      <td>Evet</td>\n",
       "      <td>...</td>\n",
       "      <td>0</td>\n",
       "      <td>Hayır</td>\n",
       "      <td>NaN</td>\n",
       "      <td>Evet</td>\n",
       "      <td>Hayır</td>\n",
       "      <td>NaN</td>\n",
       "      <td>NaN</td>\n",
       "      <td>NaN</td>\n",
       "      <td>NaN</td>\n",
       "      <td>3</td>\n",
       "    </tr>\n",
       "    <tr>\n",
       "      <th>4</th>\n",
       "      <td>2014</td>\n",
       "      <td>24.0</td>\n",
       "      <td>Erkek</td>\n",
       "      <td>2 Kasim 1992</td>\n",
       "      <td>Ankara/Altındağ</td>\n",
       "      <td>Ankara</td>\n",
       "      <td>TURGUT ÖZAL ÜNİVERSİTESİ</td>\n",
       "      <td>Özel</td>\n",
       "      <td>100.0</td>\n",
       "      <td>Evet</td>\n",
       "      <td>...</td>\n",
       "      <td>0</td>\n",
       "      <td>Hayır</td>\n",
       "      <td>NaN</td>\n",
       "      <td>Hayır</td>\n",
       "      <td>Hayır</td>\n",
       "      <td>NaN</td>\n",
       "      <td>NaN</td>\n",
       "      <td>NaN</td>\n",
       "      <td>NaN</td>\n",
       "      <td>4</td>\n",
       "    </tr>\n",
       "  </tbody>\n",
       "</table>\n",
       "<p>5 rows × 44 columns</p>\n",
       "</div>"
      ],
      "text/plain": [
       "   Basvuru Yili  Degerlendirme Puani Cinsiyet  Dogum Tarihi        Dogum Yeri  \\\n",
       "0          2014                 52.0    Erkek      4/6/1994  Altindag, Ankara   \n",
       "1          2014                 30.0    Erkek     6/11/1993           Üsküdar   \n",
       "2          2014                 18.0    Erkek     1/15/1986            Samsun   \n",
       "3          2014                 40.0    Erkek      6/4/1991        Diyarbakır   \n",
       "4          2014                 24.0    Erkek  2 Kasim 1992   Ankara/Altındağ   \n",
       "\n",
       "  Ikametgah Sehri                    Universite Adi Universite Turu  \\\n",
       "0          Ankara           İHSAN DOĞRAMACI BİLKENT            Özel   \n",
       "1        İstanbul           İHSAN DOĞRAMACI BİLKENT            Özel   \n",
       "2        İstanbul  ULUSLARARASI KIBRIS ÜNİVERSİTESİ            Özel   \n",
       "3        İstanbul       İSTANBUL ŞEHİR ÜNİVERSİTESİ            Özel   \n",
       "4          Ankara          TURGUT ÖZAL ÜNİVERSİTESİ            Özel   \n",
       "\n",
       "   Burslu ise Burs Yuzdesi Burs Aliyor mu?  ... Spor Dalindaki Rolunuz Nedir?  \\\n",
       "0                    100.0            Evet  ...                         Diğer   \n",
       "1                    100.0           Hayır  ...                             0   \n",
       "2                    100.0           Hayır  ...                             0   \n",
       "3                    100.0            Evet  ...                             0   \n",
       "4                    100.0            Evet  ...                             0   \n",
       "\n",
       "  Aktif olarak bir STK üyesi misiniz? Hangi STK'nin Uyesisiniz?  \\\n",
       "0                               Hayır                       NaN   \n",
       "1                               Hayır                       NaN   \n",
       "2                               Hayır                       NaN   \n",
       "3                               Hayır                       NaN   \n",
       "4                               Hayır                       NaN   \n",
       "\n",
       "  Stk Projesine Katildiniz Mi? Girisimcilikle Ilgili Deneyiminiz Var Mi?  \\\n",
       "0                         Evet                                     Hayır   \n",
       "1                         Evet                                      Evet   \n",
       "2                        Hayır                                     Hayır   \n",
       "3                         Evet                                     Hayır   \n",
       "4                        Hayır                                     Hayır   \n",
       "\n",
       "  Girisimcilikle Ilgili Deneyiminizi Aciklayabilir misiniz?  \\\n",
       "0                                                NaN          \n",
       "1  Bilkent Cyberparkta bir şirkette Türkiye nin i...          \n",
       "2                                                NaN          \n",
       "3                                                NaN          \n",
       "4                                                NaN          \n",
       "\n",
       "  Ingilizce Biliyor musunuz? Ingilizce Seviyeniz?  \\\n",
       "0                        NaN                  NaN   \n",
       "1                        NaN                  NaN   \n",
       "2                        NaN                  NaN   \n",
       "3                        NaN                  NaN   \n",
       "4                        NaN                  NaN   \n",
       "\n",
       "  Daha Önceden Mezun Olunduysa, Mezun Olunan Üniversite id  \n",
       "0                                                NaN     0  \n",
       "1                                                NaN     1  \n",
       "2                                                NaN     2  \n",
       "3                                                NaN     3  \n",
       "4                                                NaN     4  \n",
       "\n",
       "[5 rows x 44 columns]"
      ]
     },
     "execution_count": 2,
     "metadata": {},
     "output_type": "execute_result"
    }
   ],
   "source": [
    "#pd.set_option('display.max_rows', None)  \n",
    "#pd.set_option('display.max_columns', None) \n",
    "\n",
    "# warnings.filterwarnings('ignore')\n",
    "\n",
    "df = pd.read_csv(\"train.csv\")\n",
    "df.head()"
   ]
  },
  {
   "cell_type": "code",
   "execution_count": 3,
   "id": "d4d4d573-2b7b-4312-8d28-16eda1a2c6fb",
   "metadata": {},
   "outputs": [
    {
     "data": {
      "text/plain": [
       "Basvuru Yili                                                     0\n",
       "Burs Aliyor mu?                                                  0\n",
       "id                                                               0\n",
       "Degerlendirme Puani                                              1\n",
       "Universite Adi                                                 132\n",
       "Cinsiyet                                                       169\n",
       "Dogum Tarihi                                                   177\n",
       "Bölüm                                                          231\n",
       "Baska Bir Kurumdan Burs Aliyor mu?                             231\n",
       "Universite Turu                                                255\n",
       "Universite Kacinci Sinif                                       374\n",
       "Lise Adi                                                       384\n",
       "Anne Egitim Durumu                                             406\n",
       "Dogum Yeri                                                     791\n",
       "Lise Turu                                                      847\n",
       "Baba Egitim Durumu                                            1007\n",
       "Lise Bolumu                                                   1009\n",
       "Lise Sehir                                                    1054\n",
       "Profesyonel Bir Spor Daliyla Mesgul musunuz?                  1115\n",
       "Kardes Sayisi                                                 1132\n",
       "Girisimcilik Kulupleri Tarzi Bir Kulube Uye misiniz?          1829\n",
       "Ikametgah Sehri                                               2037\n",
       "Universite Not Ortalamasi                                     2753\n",
       "Lise Mezuniyet Notu                                           5917\n",
       "Ingilizce Biliyor musunuz?                                    6454\n",
       "Anne Calisma Durumu                                          11896\n",
       "Baba Calisma Durumu                                          12618\n",
       "Girisimcilikle Ilgili Deneyiminiz Var Mi?                    12840\n",
       "Aktif olarak bir STK üyesi misiniz?                          12842\n",
       "Baba Sektor                                                  20378\n",
       "Stk Projesine Katildiniz Mi?                                 28308\n",
       "Spor Dalindaki Rolunuz Nedir?                                32275\n",
       "Anne Sektor                                                  34537\n",
       "Ingilizce Seviyeniz?                                         36533\n",
       "Daha Once Baska Bir Universiteden Mezun Olmus                37345\n",
       "Burslu ise Burs Yuzdesi                                      42685\n",
       "Burs Aldigi Baska Kurum                                      43977\n",
       "Baska Kurumdan Aldigi Burs Miktari                           44162\n",
       "Uye Oldugunuz Kulubun Ismi                                   48691\n",
       "Hangi STK'nin Uyesisiniz?                                    49518\n",
       "Girisimcilikle Ilgili Deneyiminizi Aciklayabilir misiniz?    50526\n",
       "Lise Adi Diger                                               60392\n",
       "Lise Bolum Diger                                             63599\n",
       "Daha Önceden Mezun Olunduysa, Mezun Olunan Üniversite        64706\n",
       "dtype: int64"
      ]
     },
     "execution_count": 3,
     "metadata": {},
     "output_type": "execute_result"
    }
   ],
   "source": [
    "df.isnull().sum().sort_values(ascending=True)"
   ]
  },
  {
   "cell_type": "code",
   "execution_count": 4,
   "id": "0e69c433-f612-4f20-8b4e-e444c6fb6181",
   "metadata": {},
   "outputs": [],
   "source": [
    "df = df.dropna(subset=['Degerlendirme Puani'])"
   ]
  },
  {
   "cell_type": "code",
   "execution_count": 5,
   "id": "1ffd0164-e1d7-4117-ac69-ee386c474191",
   "metadata": {},
   "outputs": [],
   "source": [
    "def how_many_types(dataframe, col_name):\n",
    "    \n",
    "    diff_types = set(dataframe[col_name].apply(type))\n",
    "    num_of_diff_types =len(diff_types)\n",
    "    print(f\"Sütunda {num_of_diff_types} farklı veri tipi var: {diff_types} \")\n",
    "\n",
    "# Bütün harfleri küçük yapma\n",
    "def all_letters_lowered(dataframe, col_name):\n",
    "    \"\"\"\n",
    "    Belirtilen bir sütundaki tüm string değerleri küçük harfe çevirir.\n",
    "    \n",
    "    Parametreler:\n",
    "    dataframe (pd.DataFrame): İşlem yapılacak DataFrame.\n",
    "    col_name (str): Tüm string değerlerinin küçük harfe çevrileceği sütunun adı.\n",
    "    \n",
    "    İşlev:\n",
    "    - Verilen sütundaki tüm string ifadeler `.str.lower()` ile küçük harfe dönüştürülür.\n",
    "    \n",
    "    Not:\n",
    "    - Bu fonksiyon doğrudan orijinal DataFrame üzerinde değişiklik yapar (`inplace=True` gibi davranır).\n",
    "    \n",
    "    Örnek kullanım:\n",
    "    all_letters_lowered(df, 'column_name')\n",
    "    \"\"\"\n",
    "    dataframe[col_name] = dataframe[col_name].str.lower()\n",
    "\n",
    "\n",
    "# Eşsiz değerleri ve NaN değerleri görme\n",
    "def values_and_nulls(dataframe, col_name):\n",
    "    \"\"\"\n",
    "    Belirtilen bir sütundaki eşsiz değerleri ve NaN değerlerinin sayısını gösterir.\n",
    "    \n",
    "    Parametreler:\n",
    "    dataframe (pd.DataFrame): İşlem yapılacak DataFrame.\n",
    "    col_name (str): Eşsiz değerlerin ve NaN değerlerinin sayısının hesaplanacağı sütun adı.\n",
    "    \n",
    "    İşlev:\n",
    "    1. Sütundaki eşsiz değerleri ve bu değerlerin kaç kere tekrar ettiğini gösterir.\n",
    "    2. Sütundaki NaN (eksik) değerlerin sayısını gösterir.\n",
    "    \n",
    "    Çıktı:\n",
    "    - Sütundaki eşsiz değerlerin sıklığı.\n",
    "    - NaN değerlerin sayısı.\n",
    "    \"\"\"\n",
    "    print(dataframe[col_name].value_counts(), end=\"\\n\\n\")\n",
    "    print(\"NaN: \", dataframe[col_name].isnull().sum())\n",
    "\n",
    "# NaN değerleri doldurma\n",
    "def fill_missing_values(dataframe, col_name, value):\n",
    "    \"\"\"\n",
    "    DataFrame'deki belirli bir sütundaki eksik (NaN) değerleri verilen değer ile doldurur.\n",
    "    \n",
    "    Parametreler:\n",
    "    df (pd.DataFrame): İşlem yapılacak DataFrame.\n",
    "    column (str): Eksik değerlerin doldurulacağı sütunun adı.\n",
    "    value: Eksik değerlerin yerine yazılacak değer.\n",
    "    \"\"\"\n",
    "    dataframe[col_name] = dataframe[col_name].fillna(value)\n",
    "\n",
    "    "
   ]
  },
  {
   "cell_type": "markdown",
   "id": "67623780-496a-42c1-adf7-708cf3bb450e",
   "metadata": {},
   "source": [
    "# CİNSİYET ✓"
   ]
  },
  {
   "cell_type": "code",
   "execution_count": 6,
   "id": "1518e265-6145-4822-b731-09e4e62a5f1b",
   "metadata": {},
   "outputs": [
    {
     "name": "stdout",
     "output_type": "stream",
     "text": [
      "Cinsiyet\n",
      "Kadın                    32076\n",
      "Erkek                    22752\n",
      "ERKEK                    10012\n",
      "Belirtmek istemiyorum      115\n",
      "Name: count, dtype: int64\n",
      "\n",
      "NaN:  169\n"
     ]
    }
   ],
   "source": [
    "values_and_nulls(df, \"Cinsiyet\")"
   ]
  },
  {
   "cell_type": "code",
   "execution_count": 7,
   "id": "16d05136-3584-41a7-a617-67d31187749e",
   "metadata": {},
   "outputs": [],
   "source": [
    "all_letters_lowered(df,\"Cinsiyet\")\n",
    "fill_missing_values(df, \"Cinsiyet\", \"Belirtmek istemiyorum\")"
   ]
  },
  {
   "cell_type": "code",
   "execution_count": 8,
   "id": "7eca78c9-5c2e-4a40-8344-109f4b57252a",
   "metadata": {},
   "outputs": [],
   "source": [
    "mapping_sex = {\"erkek\": 1, \"kadın\": 2, \"Belirtmek istemiyorum\": 0}\n",
    "df[\"Cinsiyet\"] = df[\"Cinsiyet\"].map(mapping_sex)\n",
    "df[\"Cinsiyet\"] = df[\"Cinsiyet\"].fillna(0).astype(int)"
   ]
  },
  {
   "cell_type": "code",
   "execution_count": 9,
   "id": "40a70fd5-a524-40c2-800c-09f68984c5c1",
   "metadata": {},
   "outputs": [
    {
     "name": "stdout",
     "output_type": "stream",
     "text": [
      "Cinsiyet\n",
      "1    32764\n",
      "2    32076\n",
      "0      284\n",
      "Name: count, dtype: int64\n",
      "\n",
      "NaN:  0\n"
     ]
    }
   ],
   "source": [
    "values_and_nulls(df, \"Cinsiyet\")"
   ]
  },
  {
   "cell_type": "code",
   "execution_count": 10,
   "id": "54a7f661-a119-444d-aadd-8f70ff283015",
   "metadata": {},
   "outputs": [],
   "source": [
    "erkek_sayisi = len(df[df['Cinsiyet'] == 1])\n",
    "kadin_sayisi = len(df[df['Cinsiyet'] == 2])\n",
    "belirtmek_istemiyorum_sayisi = len(df[df['Cinsiyet'] == 0])\n",
    "\n",
    "# Ağırlıklı dağıtım oranları\n",
    "erkek_orani = erkek_sayisi / (erkek_sayisi + kadin_sayisi)\n",
    "kadin_orani = kadin_sayisi / (erkek_sayisi + kadin_sayisi)\n",
    "\n",
    "# Belirtmek istemiyorum'u cinsiyetlere dağıtma\n",
    "erkek_eklenecek = int(belirtmek_istemiyorum_sayisi * erkek_orani)\n",
    "kadin_eklenecek = belirtmek_istemiyorum_sayisi - erkek_eklenecek\n",
    "\n",
    "# \"Belirtmek İstemiyorum\" olanları dağıtma\n",
    "df.loc[df['Cinsiyet'] == 0, 'Cinsiyet'] = [1] * erkek_eklenecek + [2] * kadin_eklenecek"
   ]
  },
  {
   "cell_type": "code",
   "execution_count": 11,
   "id": "18900cd8-d1f6-439e-bcd8-eb44b2af75ed",
   "metadata": {},
   "outputs": [
    {
     "name": "stdout",
     "output_type": "stream",
     "text": [
      "Cinsiyet\n",
      "1    32907\n",
      "2    32217\n",
      "Name: count, dtype: int64\n",
      "\n",
      "NaN:  0\n"
     ]
    }
   ],
   "source": [
    "values_and_nulls(df, \"Cinsiyet\")"
   ]
  },
  {
   "cell_type": "markdown",
   "id": "f8fc80d3-00fc-42a3-98d5-6d46e0503dd7",
   "metadata": {},
   "source": [
    "# DOĞUM TARİHİ"
   ]
  },
  {
   "cell_type": "code",
   "execution_count": 12,
   "id": "ee2b392a-e15b-4cca-b2b2-a41cf4050a2c",
   "metadata": {
    "scrolled": true
   },
   "outputs": [
    {
     "name": "stdout",
     "output_type": "stream",
     "text": [
      "Dogum Tarihi\n",
      "1/1/70 2:00         1655\n",
      "1/1/00 0:00          179\n",
      "1/1/01 0:00          154\n",
      "1/1/1997             139\n",
      "1/1/1998             129\n",
      "                    ... \n",
      "1992-05-12             1\n",
      "1997-03-19             1\n",
      "1996-08-17             1\n",
      "1991-04-23             1\n",
      "12.11.2003 00:00       1\n",
      "Name: count, Length: 13498, dtype: int64\n",
      "\n",
      "NaN:  177\n"
     ]
    }
   ],
   "source": [
    "values_and_nulls(df, \"Dogum Tarihi\")"
   ]
  },
  {
   "cell_type": "code",
   "execution_count": 13,
   "id": "c9effec3-494f-4c13-b1c2-1500834feb77",
   "metadata": {},
   "outputs": [],
   "source": [
    "df['Dogum Tarihi'] = pd.to_datetime(df['Dogum Tarihi'], errors='coerce')"
   ]
  },
  {
   "cell_type": "code",
   "execution_count": 14,
   "id": "c21f3c0a-0ce3-4877-be95-6db461899e1f",
   "metadata": {},
   "outputs": [
    {
     "data": {
      "text/plain": [
       "0       1994-04-06\n",
       "1       1993-06-11\n",
       "2       1986-01-15\n",
       "3       1991-06-04\n",
       "4              NaT\n",
       "           ...    \n",
       "65119          NaT\n",
       "65120          NaT\n",
       "65121          NaT\n",
       "65122          NaT\n",
       "65123          NaT\n",
       "Name: Dogum Tarihi, Length: 65124, dtype: datetime64[ns]"
      ]
     },
     "execution_count": 14,
     "metadata": {},
     "output_type": "execute_result"
    }
   ],
   "source": [
    "df[\"Dogum Tarihi\"]"
   ]
  },
  {
   "cell_type": "code",
   "execution_count": 15,
   "id": "dcef763e-929e-431e-8d65-da4e67a1d5f9",
   "metadata": {},
   "outputs": [
    {
     "name": "stdout",
     "output_type": "stream",
     "text": [
      "Dogum Tarihi\n",
      "1997-01-01    139\n",
      "1998-01-01    129\n",
      "1996-01-01    119\n",
      "1995-01-01    106\n",
      "1999-01-01     84\n",
      "             ... \n",
      "1992-11-26      1\n",
      "1990-01-08      1\n",
      "1988-04-11      1\n",
      "1990-03-23      1\n",
      "2000-06-07      1\n",
      "Name: count, Length: 3370, dtype: int64\n",
      "\n",
      "NaN:  45937\n"
     ]
    }
   ],
   "source": [
    "values_and_nulls(df,\"Dogum Tarihi\")"
   ]
  },
  {
   "cell_type": "markdown",
   "id": "38ca6cef-4f20-464b-adfc-04837eac44e0",
   "metadata": {},
   "source": [
    "# Dogum Yeri, İkametgah Sehri, Lise Sehir"
   ]
  },
  {
   "cell_type": "code",
   "execution_count": 16,
   "id": "5ba40cb6-7e56-4865-bec6-a10bbab163fc",
   "metadata": {},
   "outputs": [],
   "source": [
    "import re\n",
    "\n",
    "def city_simp(dataframe, col_name):\n",
    "    # Türkiye'nin 81 ili\n",
    "    cities = ['Adana', 'Adıyaman', 'Afyonkarahisar', 'Ağrı', 'Amasya', 'Ankara', 'Antalya', 'Artvin', 'Aydın', 'Balıkesir', 'Bilecik',\n",
    "              'Bingöl', 'Bitlis', 'Bolu', 'Burdur', 'Bursa', 'Çanakkale', 'Çankırı', 'Çorum', 'Denizli', 'Diyarbakır', 'Edirne',\n",
    "              'Elazığ', 'Erzincan', 'Erzurum', 'Eskişehir', 'Gaziantep', 'Giresun', 'Gümüşhane', 'Hakkari', 'Hatay', 'Isparta',\n",
    "              'Mersin', 'İstanbul', 'İzmir', 'Kars', 'Kastamonu', 'Kayseri', 'Kırklareli', 'Kırşehir', 'Kocaeli', 'Konya', 'Kütahya',\n",
    "              'Malatya', 'Manisa', 'Kahramanmaraş', 'Mardin', 'Muğla', 'Muş', 'Nevşehir', 'Niğde', 'Ordu', 'Rize', 'Sakarya',\n",
    "              'Samsun', 'Siirt', 'Sinop', 'Sivas', 'Tekirdağ', 'Tokat', 'Trabzon', 'Tunceli', 'Şanlıurfa', 'Uşak', 'Van', 'Yozgat',\n",
    "              'Zonguldak', 'Aksaray', 'Bayburt', 'Karaman', 'Kırıkkale', 'Batman', 'Şırnak', 'Bartın', 'Ardahan', 'Iğdır',\n",
    "              'Yalova', 'Karabük', 'Kilis', 'Osmaniye', 'Düzce']\n",
    "    \n",
    "    def extract_city(location):\n",
    "        # 'location' bir string değilse, None döndür\n",
    "        if not isinstance(location, str):\n",
    "            return None\n",
    "        \n",
    "        # Şehir isimlerinin geçerli olduğu yerleri bulmak için regex kullanılır\n",
    "        for city in cities:\n",
    "            if re.search(r'\\b' + re.escape(city) + r'\\b', location):\n",
    "                return city\n",
    "        return None\n",
    "    \n",
    "    # Belirtilen sütundaki şehir isimlerini ayıklama\n",
    "    dataframe[col_name] = dataframe[col_name].apply(extract_city)\n"
   ]
  },
  {
   "cell_type": "code",
   "execution_count": 17,
   "id": "2cdaf773-e201-4f45-be86-df5328400406",
   "metadata": {},
   "outputs": [],
   "source": [
    "city_simp(df,\"Dogum Yeri\")\n",
    "city_simp(df,\"Ikametgah Sehri\")\n",
    "city_simp(df, \"Lise Sehir\")\n",
    "\n",
    "fill_missing_values(df,\"Dogum Yeri\",\"Bilinmiyor\")\n",
    "fill_missing_values(df,\"Ikametgah Sehri\",\"Bilinmiyor\")\n",
    "fill_missing_values(df,\"Lise Sehir\",\"Bilinmiyor\")"
   ]
  },
  {
   "cell_type": "code",
   "execution_count": 18,
   "id": "f843cdcc-908b-4114-b0ae-34b6f4eba80c",
   "metadata": {},
   "outputs": [
    {
     "name": "stdout",
     "output_type": "stream",
     "text": [
      "Dogum Yeri\n",
      "Bilinmiyor    9765\n",
      "İstanbul      8865\n",
      "Ankara        4106\n",
      "İzmir         2218\n",
      "Bursa         1839\n",
      "              ... \n",
      "Kilis           97\n",
      "Çankırı         93\n",
      "Gümüşhane       78\n",
      "Bayburt         75\n",
      "Tunceli         50\n",
      "Name: count, Length: 82, dtype: int64\n",
      "\n",
      "NaN:  0\n"
     ]
    }
   ],
   "source": [
    "values_and_nulls(df,\"Dogum Yeri\")"
   ]
  },
  {
   "cell_type": "markdown",
   "id": "7c91178f-0878-496f-a8e9-d26f8b962e3a",
   "metadata": {},
   "source": [
    "# Üniversite Adı"
   ]
  },
  {
   "cell_type": "code",
   "execution_count": 19,
   "id": "f0fd6125-b0bf-4451-b848-580a73ab057f",
   "metadata": {
    "scrolled": true
   },
   "outputs": [
    {
     "name": "stdout",
     "output_type": "stream",
     "text": [
      "Universite Adi\n",
      "İSTANBUL ÜNİVERSİTESİ                      2083\n",
      "MARMARA ÜNİVERSİTESİ                       1672\n",
      "İSTANBUL TEKNİK ÜNİVERSİTESİ               1464\n",
      "YILDIZ TEKNİK ÜNİVERSİTESİ                 1438\n",
      "ORTA DOĞU TEKNİK ÜNİVERSİTESİ              1258\n",
      "                                           ... \n",
      "Brown University                              1\n",
      "ALANYA HAMDULLAH EMİN PAŞA ÜNİVERSİTESİ       1\n",
      "İstanbul Bilim Üniversitesi                   1\n",
      "AVRUPA MESLEK YÜKSEKOKULU                     1\n",
      "İstanbul Atlas Üniversitesi                   1\n",
      "Name: count, Length: 527, dtype: int64\n",
      "\n",
      "NaN:  132\n"
     ]
    }
   ],
   "source": [
    "values_and_nulls(df,\"Universite Adi\")"
   ]
  },
  {
   "cell_type": "code",
   "execution_count": 20,
   "id": "c6de0070-1e3f-4c30-bfcf-8e5d0fae9757",
   "metadata": {},
   "outputs": [],
   "source": [
    "all_letters_lowered(df,\"Universite Adi\")\n",
    "fill_missing_values(df,\"Universite Adi\",\"Bilinmiyor\")"
   ]
  },
  {
   "cell_type": "code",
   "execution_count": 21,
   "id": "75bfa94a-9d51-4583-a397-af2550df2452",
   "metadata": {
    "scrolled": true
   },
   "outputs": [
    {
     "name": "stdout",
     "output_type": "stream",
     "text": [
      "Universite Adi\n",
      "i̇stanbul üni̇versi̇tesi̇                      2083\n",
      "marmara üni̇versi̇tesi̇                        1672\n",
      "i̇stanbul tekni̇k üni̇versi̇tesi̇              1464\n",
      "yildiz tekni̇k üni̇versi̇tesi̇                 1438\n",
      "orta doğu tekni̇k üni̇versi̇tesi̇              1258\n",
      "                                               ... \n",
      "selahaddin eyyubi üniversitesi                    1\n",
      "alanya hamdullah emi̇n paşa üni̇versi̇tesi̇       1\n",
      "turgut özal üniversitesi                          1\n",
      "selahaddi̇n eyyubi̇ üni̇versi̇tesi̇               1\n",
      "i̇stanbul atlas üniversitesi                      1\n",
      "Name: count, Length: 527, dtype: int64\n",
      "\n",
      "NaN:  0\n"
     ]
    }
   ],
   "source": [
    "values_and_nulls(df,\"Universite Adi\")"
   ]
  },
  {
   "cell_type": "markdown",
   "id": "b433f7fb-9ddc-4a11-bc1f-0c9cc9da5491",
   "metadata": {},
   "source": [
    "# Üniversite Türü  ✓"
   ]
  },
  {
   "cell_type": "code",
   "execution_count": 22,
   "id": "f2be1414-43df-46f7-bd34-201ad19f26fe",
   "metadata": {},
   "outputs": [
    {
     "name": "stdout",
     "output_type": "stream",
     "text": [
      "Universite Turu\n",
      "devlet    53516\n",
      "özel      11608\n",
      "Name: count, dtype: int64\n",
      "\n",
      "NaN:  0\n"
     ]
    }
   ],
   "source": [
    "all_letters_lowered(df,\"Universite Turu\")\n",
    "fill_missing_values(df,\"Universite Turu\" , \"devlet\") # burası modelden sonra oynanabilir.\n",
    "values_and_nulls(df, \"Universite Turu\")\n"
   ]
  },
  {
   "cell_type": "markdown",
   "id": "ead8c7f2-ab34-4dab-bcc9-ccfee266bc35",
   "metadata": {},
   "source": [
    "# Burslu ise Burs Yuzdesi ✓"
   ]
  },
  {
   "cell_type": "code",
   "execution_count": 23,
   "id": "eb3d398b-9371-4260-b453-8f9ab667c4b8",
   "metadata": {
    "scrolled": true
   },
   "outputs": [
    {
     "name": "stdout",
     "output_type": "stream",
     "text": [
      "Burslu ise Burs Yuzdesi\n",
      "0.0      54856\n",
      "100.0     5049\n",
      "50.0      3149\n",
      "75.0      1002\n",
      "25.0       785\n",
      "10.0        50\n",
      "60.0        27\n",
      "1.0         26\n",
      "65.0        17\n",
      "80.0        15\n",
      "5.0         14\n",
      "30.0        14\n",
      "85.0        11\n",
      "2.0         10\n",
      "55.0         8\n",
      "62.5         7\n",
      "62.0         7\n",
      "35.0         7\n",
      "45.0         6\n",
      "7.0          6\n",
      "70.0         5\n",
      "99.0         5\n",
      "20.0         5\n",
      "40.0         4\n",
      "90.0         4\n",
      "63.0         4\n",
      "6.0          4\n",
      "3.0          2\n",
      "8.0          2\n",
      "98.0         2\n",
      "46.0         1\n",
      "82.5         1\n",
      "69.0         1\n",
      "88.0         1\n",
      "64.0         1\n",
      "4.0          1\n",
      "87.5         1\n",
      "57.5         1\n",
      "57.0         1\n",
      "91.5         1\n",
      "11.0         1\n",
      "41.5         1\n",
      "49.0         1\n",
      "74.0         1\n",
      "72.0         1\n",
      "32.0         1\n",
      "48.0         1\n",
      "37.0         1\n",
      "67.0         1\n",
      "41.0         1\n",
      "67.5         1\n",
      "Name: count, dtype: int64\n",
      "\n",
      "NaN:  0\n"
     ]
    }
   ],
   "source": [
    "fill_missing_values(df,\"Burslu ise Burs Yuzdesi\",0)\n",
    "values_and_nulls(df, \"Burslu ise Burs Yuzdesi\")"
   ]
  },
  {
   "cell_type": "code",
   "execution_count": 24,
   "id": "91910c58-1d27-4c11-9897-ba5b72d47cc2",
   "metadata": {},
   "outputs": [],
   "source": [
    "bins = [-1, 10, 20, 30, 40, 50, 60, 70, 80, 90, 100]\n",
    "labels = ['0-10', '11-20', '21-30', '31-40', '41-50', '51-60', '61-70', '71-80', '81-90', '91-100']\n",
    "\n",
    "df['Burslu ise Burs Yuzdesi'] = pd.cut(df['Burslu ise Burs Yuzdesi'], bins=bins, labels=labels, right=True)"
   ]
  },
  {
   "cell_type": "code",
   "execution_count": 25,
   "id": "775689f3-fedb-4d7c-b09d-0a0e3bb44253",
   "metadata": {
    "scrolled": true
   },
   "outputs": [
    {
     "name": "stdout",
     "output_type": "stream",
     "text": [
      "Burslu ise Burs Yuzdesi\n",
      "0-10      54971\n",
      "91-100     5057\n",
      "41-50      3160\n",
      "71-80      1019\n",
      "21-30       799\n",
      "61-70        44\n",
      "51-60        37\n",
      "81-90        18\n",
      "31-40        13\n",
      "11-20         6\n",
      "Name: count, dtype: int64\n",
      "\n",
      "NaN:  0\n"
     ]
    }
   ],
   "source": [
    "values_and_nulls(df,\"Burslu ise Burs Yuzdesi\")"
   ]
  },
  {
   "cell_type": "markdown",
   "id": "8aaafcbc-31c1-45ab-8edc-aaede7324fb4",
   "metadata": {
    "jp-MarkdownHeadingCollapsed": true
   },
   "source": [
    "# Burs Aliyor mu? ✓"
   ]
  },
  {
   "cell_type": "code",
   "execution_count": 26,
   "id": "c2e15547-59bd-4924-93e4-0d55425f1f09",
   "metadata": {},
   "outputs": [],
   "source": [
    "all_letters_lowered(df, \"Burs Aliyor mu?\")"
   ]
  },
  {
   "cell_type": "code",
   "execution_count": 27,
   "id": "78fb7dbb-53b7-4cdd-affe-75011643b839",
   "metadata": {},
   "outputs": [
    {
     "name": "stdout",
     "output_type": "stream",
     "text": [
      "Burs Aliyor mu?\n",
      "hayır    52249\n",
      "evet     12875\n",
      "Name: count, dtype: int64\n",
      "\n",
      "NaN:  0\n"
     ]
    }
   ],
   "source": [
    "values_and_nulls(df,\"Burs Aliyor mu?\")"
   ]
  },
  {
   "cell_type": "markdown",
   "id": "34d5ee45-9d83-4e39-9d8a-830d07142240",
   "metadata": {},
   "source": [
    "# Bölüm"
   ]
  },
  {
   "cell_type": "code",
   "execution_count": 28,
   "id": "dae36628-a685-440f-91f3-fa1f56124bbb",
   "metadata": {
    "scrolled": true
   },
   "outputs": [
    {
     "name": "stdout",
     "output_type": "stream",
     "text": [
      "<class 'pandas.core.frame.DataFrame'>\n",
      "Index: 65124 entries, 0 to 65123\n",
      "Data columns (total 44 columns):\n",
      " #   Column                                                     Non-Null Count  Dtype         \n",
      "---  ------                                                     --------------  -----         \n",
      " 0   Basvuru Yili                                               65124 non-null  int64         \n",
      " 1   Degerlendirme Puani                                        65124 non-null  float64       \n",
      " 2   Cinsiyet                                                   65124 non-null  int32         \n",
      " 3   Dogum Tarihi                                               19187 non-null  datetime64[ns]\n",
      " 4   Dogum Yeri                                                 65124 non-null  object        \n",
      " 5   Ikametgah Sehri                                            65124 non-null  object        \n",
      " 6   Universite Adi                                             65124 non-null  object        \n",
      " 7   Universite Turu                                            65124 non-null  object        \n",
      " 8   Burslu ise Burs Yuzdesi                                    65124 non-null  category      \n",
      " 9   Burs Aliyor mu?                                            65124 non-null  object        \n",
      " 10  Bölüm                                                      64893 non-null  object        \n",
      " 11  Universite Kacinci Sinif                                   64750 non-null  object        \n",
      " 12  Universite Not Ortalamasi                                  62371 non-null  object        \n",
      " 13  Daha Once Baska Bir Universiteden Mezun Olmus              27780 non-null  object        \n",
      " 14  Lise Adi                                                   64740 non-null  object        \n",
      " 15  Lise Adi Diger                                             4733 non-null   object        \n",
      " 16  Lise Sehir                                                 65124 non-null  object        \n",
      " 17  Lise Turu                                                  64277 non-null  object        \n",
      " 18  Lise Bolumu                                                64115 non-null  object        \n",
      " 19  Lise Bolum Diger                                           1526 non-null   object        \n",
      " 20  Lise Mezuniyet Notu                                        59207 non-null  object        \n",
      " 21  Baska Bir Kurumdan Burs Aliyor mu?                         64893 non-null  object        \n",
      " 22  Burs Aldigi Baska Kurum                                    21147 non-null  object        \n",
      " 23  Baska Kurumdan Aldigi Burs Miktari                         20962 non-null  object        \n",
      " 24  Anne Egitim Durumu                                         64718 non-null  object        \n",
      " 25  Anne Calisma Durumu                                        53228 non-null  object        \n",
      " 26  Anne Sektor                                                30587 non-null  object        \n",
      " 27  Baba Egitim Durumu                                         64117 non-null  object        \n",
      " 28  Baba Calisma Durumu                                        52506 non-null  object        \n",
      " 29  Baba Sektor                                                44746 non-null  object        \n",
      " 30  Kardes Sayisi                                              63992 non-null  object        \n",
      " 31  Girisimcilik Kulupleri Tarzi Bir Kulube Uye misiniz?       63295 non-null  object        \n",
      " 32  Uye Oldugunuz Kulubun Ismi                                 16434 non-null  object        \n",
      " 33  Profesyonel Bir Spor Daliyla Mesgul musunuz?               64009 non-null  object        \n",
      " 34  Spor Dalindaki Rolunuz Nedir?                              32849 non-null  object        \n",
      " 35  Aktif olarak bir STK üyesi misiniz?                        52282 non-null  object        \n",
      " 36  Hangi STK'nin Uyesisiniz?                                  15606 non-null  object        \n",
      " 37  Stk Projesine Katildiniz Mi?                               36817 non-null  object        \n",
      " 38  Girisimcilikle Ilgili Deneyiminiz Var Mi?                  52284 non-null  object        \n",
      " 39  Girisimcilikle Ilgili Deneyiminizi Aciklayabilir misiniz?  14598 non-null  object        \n",
      " 40  Ingilizce Biliyor musunuz?                                 58670 non-null  object        \n",
      " 41  Ingilizce Seviyeniz?                                       28592 non-null  object        \n",
      " 42  Daha Önceden Mezun Olunduysa, Mezun Olunan Üniversite      419 non-null    object        \n",
      " 43  id                                                         65124 non-null  int64         \n",
      "dtypes: category(1), datetime64[ns](1), float64(1), int32(1), int64(2), object(38)\n",
      "memory usage: 21.7+ MB\n"
     ]
    }
   ],
   "source": [
    "df.info()"
   ]
  },
  {
   "cell_type": "markdown",
   "id": "758359e5-f1dc-4b03-a023-7e70aca2d9be",
   "metadata": {
    "jp-MarkdownHeadingCollapsed": true
   },
   "source": [
    "# Universite Kacinci Sinif ✓"
   ]
  },
  {
   "cell_type": "code",
   "execution_count": 29,
   "id": "e5abc1e0-48b1-46f6-83f0-9bdb11a7575d",
   "metadata": {},
   "outputs": [
    {
     "name": "stdout",
     "output_type": "stream",
     "text": [
      "Universite Kacinci Sinif\n",
      "2                21773\n",
      "3                16956\n",
      "4                13112\n",
      "1                10260\n",
      "Hazırlık          1275\n",
      "5                  961\n",
      "Mezun              178\n",
      "6                  177\n",
      "hazırlık            33\n",
      "Yüksek Lisans       15\n",
      "Tez                  7\n",
      "0                    3\n",
      "Name: count, dtype: int64\n",
      "\n",
      "NaN:  374\n"
     ]
    }
   ],
   "source": [
    "values_and_nulls(df, \"Universite Kacinci Sinif\")"
   ]
  },
  {
   "cell_type": "code",
   "execution_count": 30,
   "id": "a5256fe1-a9c6-40b2-bfda-d3bf66752fd9",
   "metadata": {},
   "outputs": [],
   "source": [
    "all_letters_lowered(df,\"Universite Kacinci Sinif\")"
   ]
  },
  {
   "cell_type": "code",
   "execution_count": 31,
   "id": "d390de32-f00e-4a97-ba41-6a381f54bca0",
   "metadata": {},
   "outputs": [
    {
     "name": "stdout",
     "output_type": "stream",
     "text": [
      "Universite Kacinci Sinif\n",
      "2                21773\n",
      "3                16956\n",
      "4                13112\n",
      "1                10260\n",
      "hazırlık          1308\n",
      "5                  961\n",
      "mezun              178\n",
      "6                  177\n",
      "yüksek lisans       15\n",
      "tez                  7\n",
      "0                    3\n",
      "Name: count, dtype: int64\n",
      "\n",
      "NaN:  374\n"
     ]
    }
   ],
   "source": [
    "values_and_nulls(df,\"Universite Kacinci Sinif\")"
   ]
  },
  {
   "cell_type": "code",
   "execution_count": 32,
   "id": "15cb586e-8547-4205-89f7-a32d74ae7e74",
   "metadata": {},
   "outputs": [
    {
     "name": "stdout",
     "output_type": "stream",
     "text": [
      "Universite Kacinci Sinif\n",
      "2                22147\n",
      "3                16956\n",
      "4                13112\n",
      "1                10260\n",
      "hazırlık          1308\n",
      "5                  961\n",
      "mezun              178\n",
      "6                  177\n",
      "yüksek lisans       15\n",
      "tez                  7\n",
      "0                    3\n",
      "Name: count, dtype: int64\n",
      "\n",
      "NaN:  0\n"
     ]
    }
   ],
   "source": [
    "# Mod ile doldurdum.\n",
    "mode_value = df['Universite Kacinci Sinif'].mode()[0]\n",
    "fill_missing_values(df,\"Universite Kacinci Sinif\", mode_value)\n",
    "values_and_nulls(df,\"Universite Kacinci Sinif\")"
   ]
  },
  {
   "cell_type": "code",
   "execution_count": 33,
   "id": "bfe39bc4-bfe6-4294-846d-4914eb9e6b27",
   "metadata": {},
   "outputs": [
    {
     "name": "stdout",
     "output_type": "stream",
     "text": [
      "Sütunda 1 farklı veri tipi var: {<class 'str'>} \n"
     ]
    }
   ],
   "source": [
    "how_many_types(df,\"Universite Kacinci Sinif\")"
   ]
  },
  {
   "cell_type": "code",
   "execution_count": 34,
   "id": "d12e0f5d-db01-4b49-8cd0-f746fdaab94c",
   "metadata": {},
   "outputs": [],
   "source": [
    "grades = {\n",
    "    '0': 7,\n",
    "    '1' : 1,\n",
    "    '2': 2,\n",
    "    '3':3,\n",
    "    '4':4,\n",
    "    '5':5,\n",
    "    '6':6,\n",
    "    'hazırlık': 0,\n",
    "    'mezun': 7,\n",
    "    'yüksek lisans': 8,\n",
    "    'tez': 9\n",
    "}\n",
    "\n",
    "df['Universite Kacinci Sinif'] = df['Universite Kacinci Sinif'].map(grades)"
   ]
  },
  {
   "cell_type": "code",
   "execution_count": 35,
   "id": "c024e657-7ddc-4997-94f6-3377f7d9ca20",
   "metadata": {},
   "outputs": [
    {
     "name": "stdout",
     "output_type": "stream",
     "text": [
      "Sütunda 1 farklı veri tipi var: {<class 'int'>} \n"
     ]
    }
   ],
   "source": [
    "how_many_types(df,\"Universite Kacinci Sinif\")"
   ]
  },
  {
   "cell_type": "code",
   "execution_count": 36,
   "id": "dc7bca54-d318-4b05-a445-18e4f631ce93",
   "metadata": {},
   "outputs": [
    {
     "data": {
      "text/plain": [
       "10"
      ]
     },
     "execution_count": 36,
     "metadata": {},
     "output_type": "execute_result"
    }
   ],
   "source": [
    "df[\"Universite Kacinci Sinif\"].nunique()"
   ]
  },
  {
   "cell_type": "code",
   "execution_count": 37,
   "id": "068de340-4cdd-48fb-a63b-e5033feb8420",
   "metadata": {},
   "outputs": [
    {
     "name": "stdout",
     "output_type": "stream",
     "text": [
      "Universite Kacinci Sinif\n",
      "2    22147\n",
      "3    16956\n",
      "4    13112\n",
      "1    10260\n",
      "0     1308\n",
      "5      961\n",
      "7      181\n",
      "6      177\n",
      "8       15\n",
      "9        7\n",
      "Name: count, dtype: int64\n",
      "\n",
      "NaN:  0\n"
     ]
    }
   ],
   "source": [
    "values_and_nulls(df,\"Universite Kacinci Sinif\")"
   ]
  },
  {
   "cell_type": "markdown",
   "id": "6bedc6c3-9cb8-462c-9428-4afddfeee1b2",
   "metadata": {
    "jp-MarkdownHeadingCollapsed": true
   },
   "source": [
    "# Universite Not Ortalamasi ✓"
   ]
  },
  {
   "cell_type": "code",
   "execution_count": 38,
   "id": "119e8e27-912e-4ea7-b787-1c2c9c0ddec4",
   "metadata": {},
   "outputs": [
    {
     "name": "stdout",
     "output_type": "stream",
     "text": [
      "Universite Not Ortalamasi\n",
      "3.00-2.50              10758\n",
      "2.50 ve altı           10554\n",
      "3.00 - 3.50             7913\n",
      "3.50-3                  6179\n",
      "2.50 - 3.00             5782\n",
      "3.50 - 4.00             4462\n",
      "ortalama bulunmuyor     2812\n",
      "2.00 - 2.50             2519\n",
      "2.50 - 2.99             2451\n",
      "3.00 - 3.49             2382\n",
      "2.50 -3.00              1734\n",
      "3.00 - 4.00             1411\n",
      "1.80 - 2.49             1166\n",
      "hazırlığım               668\n",
      "not ortalaması yok       586\n",
      "4-3.5                    481\n",
      "1.00 - 2.50              327\n",
      "0 - 1.79                 185\n",
      "4.0-3.5                    1\n",
      "Name: count, dtype: int64\n",
      "\n",
      "NaN:  2753\n"
     ]
    }
   ],
   "source": [
    "all_letters_lowered(df,\"Universite Not Ortalamasi\")\n",
    "values_and_nulls(df,\"Universite Not Ortalamasi\")"
   ]
  },
  {
   "cell_type": "code",
   "execution_count": 39,
   "id": "65b3d3b6-e6b1-495c-875e-2f45e22d0f7e",
   "metadata": {},
   "outputs": [
    {
     "name": "stdout",
     "output_type": "stream",
     "text": [
      "Sütunda 2 farklı veri tipi var: {<class 'float'>, <class 'str'>} \n"
     ]
    }
   ],
   "source": [
    "how_many_types(df,\"Universite Not Ortalamasi\")"
   ]
  },
  {
   "cell_type": "code",
   "execution_count": 40,
   "id": "2e2050ea-64ab-45b4-9a8d-73402327a234",
   "metadata": {},
   "outputs": [],
   "source": [
    "fill_missing_values(df,\"Universite Not Ortalamasi\",\"yok\")"
   ]
  },
  {
   "cell_type": "code",
   "execution_count": 41,
   "id": "523a4a9e-c67a-440a-be71-9c857644fff5",
   "metadata": {},
   "outputs": [
    {
     "name": "stdout",
     "output_type": "stream",
     "text": [
      "Sütunda 1 farklı veri tipi var: {<class 'str'>} \n"
     ]
    }
   ],
   "source": [
    "how_many_types(df,\"Universite Not Ortalamasi\")"
   ]
  },
  {
   "cell_type": "code",
   "execution_count": 42,
   "id": "08a1442d-0db0-45f8-bd4a-9f0fbd730680",
   "metadata": {},
   "outputs": [
    {
     "name": "stdout",
     "output_type": "stream",
     "text": [
      "Universite Not Ortalamasi\n",
      "3.00-2.50              10758\n",
      "2.50 ve altı           10554\n",
      "3.00 - 3.50             7913\n",
      "3.50-3                  6179\n",
      "2.50 - 3.00             5782\n",
      "3.50 - 4.00             4462\n",
      "ortalama bulunmuyor     2812\n",
      "yok                     2753\n",
      "2.00 - 2.50             2519\n",
      "2.50 - 2.99             2451\n",
      "3.00 - 3.49             2382\n",
      "2.50 -3.00              1734\n",
      "3.00 - 4.00             1411\n",
      "1.80 - 2.49             1166\n",
      "hazırlığım               668\n",
      "not ortalaması yok       586\n",
      "4-3.5                    481\n",
      "1.00 - 2.50              327\n",
      "0 - 1.79                 185\n",
      "4.0-3.5                    1\n",
      "Name: count, dtype: int64\n",
      "\n",
      "NaN:  0\n"
     ]
    }
   ],
   "source": [
    "values_and_nulls(df,\"Universite Not Ortalamasi\")"
   ]
  },
  {
   "cell_type": "code",
   "execution_count": 43,
   "id": "c23fbba2-c494-4a4c-add4-8856e08d07f8",
   "metadata": {},
   "outputs": [],
   "source": [
    "gpa = {\n",
    "    '3.50-3': 'iyi',\n",
    "    '3.00-2.50': 'iyi',\n",
    "    'yok': 'yok',\n",
    "    '2.50 ve altı': 'kotu',\n",
    "    '3.00 - 4.00': 'iyi',\n",
    "    '3.50 - 4.00': 'harika',\n",
    "    '3.00 - 3.50': 'iyi',\n",
    "    '2.50 -3.00': 'iyi',\n",
    "    'ortalama bulunmuyor': 'yok',\n",
    "    '4-3.5': 'harika',\n",
    "    '2.50 - 3.00': 'kotu',\n",
    "    '2.00 - 2.50': 'kotu',\n",
    "    '1.00 - 2.50': 'kotu',\n",
    "    'not ortalaması yok': 'yok',\n",
    "    '4.0-3.5':'harika',\n",
    "    '3.00 - 3.49':  'iyi',\n",
    "    '2.50 - 2.99':  'iyi',\n",
    "    '1.80 - 2.49': 'kotu',\n",
    "    'hazırlığım': 'yok',\n",
    "    '0 - 1.79': 'kotu'\n",
    "}\n",
    "df['Universite Not Ortalamasi'] = df['Universite Not Ortalamasi'].map(gpa)"
   ]
  },
  {
   "cell_type": "code",
   "execution_count": 44,
   "id": "b0d8d679-685b-4756-820c-5895bfd7ba6e",
   "metadata": {},
   "outputs": [
    {
     "name": "stdout",
     "output_type": "stream",
     "text": [
      "Universite Not Ortalamasi\n",
      "iyi       32828\n",
      "kotu      20533\n",
      "yok        6819\n",
      "harika     4944\n",
      "Name: count, dtype: int64\n",
      "\n",
      "NaN:  0\n"
     ]
    }
   ],
   "source": [
    "values_and_nulls(df,\"Universite Not Ortalamasi\")"
   ]
  },
  {
   "cell_type": "markdown",
   "id": "9a9e5b4c-47e2-4ecf-a8ad-42913c637b5a",
   "metadata": {
    "jp-MarkdownHeadingCollapsed": true
   },
   "source": [
    "# Daha Once Baska Bir Universiteden Mezun Olmus ✓"
   ]
  },
  {
   "cell_type": "code",
   "execution_count": 45,
   "id": "c7ba1218-363f-4d0d-a321-ee0b25bdb05d",
   "metadata": {},
   "outputs": [
    {
     "name": "stdout",
     "output_type": "stream",
     "text": [
      "Daha Once Baska Bir Universiteden Mezun Olmus\n",
      "hayır    26624\n",
      "evet      1156\n",
      "Name: count, dtype: int64\n",
      "\n",
      "NaN:  37344\n"
     ]
    }
   ],
   "source": [
    "all_letters_lowered(df,\"Daha Once Baska Bir Universiteden Mezun Olmus\")\n",
    "values_and_nulls(df,\"Daha Once Baska Bir Universiteden Mezun Olmus\")"
   ]
  },
  {
   "cell_type": "code",
   "execution_count": 46,
   "id": "4865207b-7f9c-459a-811b-08fe9dfd1982",
   "metadata": {},
   "outputs": [
    {
     "name": "stdout",
     "output_type": "stream",
     "text": [
      "Daha Once Baska Bir Universiteden Mezun Olmus\n",
      "hayır    63968\n",
      "evet      1156\n",
      "Name: count, dtype: int64\n",
      "\n",
      "NaN:  0\n"
     ]
    }
   ],
   "source": [
    "fill_missing_values(df,\"Daha Once Baska Bir Universiteden Mezun Olmus\",\"hayır\")\n",
    "values_and_nulls(df,\"Daha Once Baska Bir Universiteden Mezun Olmus\")"
   ]
  },
  {
   "cell_type": "markdown",
   "id": "be35fbb4-0ded-4767-a386-5896cc5c3c1f",
   "metadata": {
    "jp-MarkdownHeadingCollapsed": true
   },
   "source": [
    "# Lise Adi ✓"
   ]
  },
  {
   "cell_type": "code",
   "execution_count": 47,
   "id": "1742b1c6-dc57-4934-923e-1f504d32cadf",
   "metadata": {},
   "outputs": [
    {
     "name": "stdout",
     "output_type": "stream",
     "text": [
      "Lise Adi\n",
      "------                                                                             4251\n",
      "Atatürk Lisesi                                                                      199\n",
      "Açık öğretim lisesi                                                                 161\n",
      "Açık Öğretim Lisesi                                                                 151\n",
      "Cumhuriyet Anadolu Lisesi                                                           146\n",
      "                                                                                   ... \n",
      "Nişantaşı Işık Lisesi                                                                 1\n",
      "Tarsus atatürk lisesi                                                                 1\n",
      "Hüsniye Özdilek Ticaret ve İletişim Anadolu Lisesi (Radyo ve Televizyon Bölümü)       1\n",
      "Ses okulları                                                                          1\n",
      "Samsun Terme Karadeniz mesleki teknik Anadolu lisesi                                  1\n",
      "Name: count, Length: 31950, dtype: int64\n",
      "\n",
      "NaN:  384\n"
     ]
    }
   ],
   "source": [
    "values_and_nulls(df,\"Lise Adi\")"
   ]
  },
  {
   "cell_type": "code",
   "execution_count": 48,
   "id": "8d9ed64e-6818-4acc-86e3-bacdc2b19854",
   "metadata": {},
   "outputs": [],
   "source": [
    "all_letters_lowered(df,\"Lise Adi\")\n",
    "def name_highschool(df, column_name):\n",
    "    df.loc[df[column_name].str.contains('anadolu', case=False, na=False), column_name] = 'anadolu'\n",
    "    df.loc[df[column_name].str.contains('fen', case=False, na=False), column_name] = 'fen'\n",
    "    df.loc[\n",
    "        (df[column_name].str.contains('meslek', case=False, na=False)) |\n",
    "        (df[column_name].str.contains('ticar', case=False, na=False)) ,\n",
    "        column_name\n",
    "    ] = 'meslek'\n",
    "    df.loc[df[column_name].str.contains('atatürk', case=False, na=False), column_name] = 'atatürk'\n",
    "    \n",
    "    hs = {\n",
    "    'anadolu': 1,\n",
    "    'fen': 2,\n",
    "    'meslek': 3,\n",
    "    'atatürk': 4,\n",
    "    }\n",
    "    \n",
    "    df[column_name] = df[column_name].map(hs)\n",
    "\n"
   ]
  },
  {
   "cell_type": "code",
   "execution_count": 49,
   "id": "3c35ea11-1b7c-4ff0-8409-ea322d8c9ad9",
   "metadata": {},
   "outputs": [
    {
     "name": "stdout",
     "output_type": "stream",
     "text": [
      "Lise Adi\n",
      "1.0    35889\n",
      "0.0    21375\n",
      "2.0     5442\n",
      "3.0     1788\n",
      "4.0      630\n",
      "Name: count, dtype: int64\n",
      "\n",
      "NaN:  0\n"
     ]
    },
    {
     "name": "stderr",
     "output_type": "stream",
     "text": [
      "C:\\Users\\fbdog\\AppData\\Local\\Temp\\ipykernel_11984\\4174842349.py:4: FutureWarning: Downcasting behavior in `replace` is deprecated and will be removed in a future version. To retain the old behavior, explicitly call `result.infer_objects(copy=False)`. To opt-in to the future behavior, set `pd.set_option('future.no_silent_downcasting', True)`\n",
      "  df['Lise Adi'] = df['Lise Adi'].replace('diğer', 0)\n"
     ]
    }
   ],
   "source": [
    "name_highschool(df,\"Lise Adi\")\n",
    "\n",
    "fill_missing_values(df,\"Lise Adi\",\"diğer\")\n",
    "df['Lise Adi'] = df['Lise Adi'].replace('diğer', 0)\n",
    "values_and_nulls(df,\"Lise Adi\")\n"
   ]
  },
  {
   "cell_type": "markdown",
   "id": "6c44f4f6-b20e-4324-b53b-969d80a7c4e0",
   "metadata": {
    "jp-MarkdownHeadingCollapsed": true
   },
   "source": [
    "# Lise Türü ✓"
   ]
  },
  {
   "cell_type": "code",
   "execution_count": 50,
   "id": "4b3547e1-9962-4ee3-aaab-69528c699a6b",
   "metadata": {},
   "outputs": [
    {
     "name": "stdout",
     "output_type": "stream",
     "text": [
      "Lise Turu\n",
      "Anadolu Lisesi       13367\n",
      "Diğer                13184\n",
      "Anadolu lisesi        7002\n",
      "Devlet                6203\n",
      "Özel                  4746\n",
      "Düz lise              4179\n",
      "Meslek lisesi         3666\n",
      "Düz Lise              2789\n",
      "Meslek                2454\n",
      "Fen Lisesi            2159\n",
      "Özel Lisesi           1474\n",
      "İmam Hatip Lisesi     1158\n",
      "Fen lisesi             660\n",
      "Özel lisesi            489\n",
      "Meslek Lisesi          415\n",
      "Özel Lise              332\n",
      "Name: count, dtype: int64\n",
      "\n",
      "NaN:  847\n"
     ]
    }
   ],
   "source": [
    "values_and_nulls(df,\"Lise Turu\")"
   ]
  },
  {
   "cell_type": "code",
   "execution_count": 51,
   "id": "f0f9160b-c323-4867-b063-51f061ae4f3b",
   "metadata": {},
   "outputs": [],
   "source": [
    "def kind_highschool(df, column_name):\n",
    "    df.loc[df[column_name].str.contains('anadolu', case=False, na=False), column_name] = 'anadolu'\n",
    "    df.loc[df[column_name].str.contains('fen', case=False, na=False), column_name] = 'fen'\n",
    "    df.loc[(df[column_name].str.contains('meslek', case=False, na=False)) ,column_name] = 'meslek'\n",
    "    df.loc[df[column_name].str.contains('özel', case=False, na=False), column_name] = 'özel'\n",
    "    df.loc[df[column_name].str.contains('imam', case=False, na=False), column_name] = 'imam hatip'\n",
    "    df.loc[df[column_name].str.contains('düz', case=False, na=False), column_name] = 'düz'\n",
    "    df.loc[df[column_name].str.contains('diğer', case=False, na=False), column_name] = 'diğer'\n",
    "    df.loc[df[column_name].str.contains('devlet', case=False, na=False), column_name] = 'devlet'\n",
    "    \n",
    "    hs = {\n",
    "    'anadolu': 1,\n",
    "    'fen': 2,\n",
    "    'meslek': 3,\n",
    "    'özel': 4,\n",
    "    'imam hatip':5,\n",
    "    'düz':6,\n",
    "    'devlet':7,\n",
    "    'diğer':0\n",
    "    }\n",
    "    \n",
    "    df[column_name] = df[column_name].map(hs)"
   ]
  },
  {
   "cell_type": "code",
   "execution_count": 52,
   "id": "02ebae7e-fab2-4c68-bc74-e8a9512adbc2",
   "metadata": {},
   "outputs": [],
   "source": [
    "fill_missing_values(df,\"Lise Turu\",\"diğer\")\n",
    "kind_highschool(df,\"Lise Turu\")"
   ]
  },
  {
   "cell_type": "code",
   "execution_count": 53,
   "id": "ce4e2447-0aa1-4abb-97bc-2574ecfa120d",
   "metadata": {},
   "outputs": [
    {
     "name": "stdout",
     "output_type": "stream",
     "text": [
      "Lise Turu\n",
      "1    20369\n",
      "0    14031\n",
      "4     7041\n",
      "6     6968\n",
      "3     6535\n",
      "7     6203\n",
      "2     2819\n",
      "5     1158\n",
      "Name: count, dtype: int64\n",
      "\n",
      "NaN:  0\n"
     ]
    }
   ],
   "source": [
    "values_and_nulls(df,\"Lise Turu\")"
   ]
  },
  {
   "cell_type": "markdown",
   "id": "015cfed1-5182-43b6-b164-fc58c5d6f484",
   "metadata": {
    "jp-MarkdownHeadingCollapsed": true
   },
   "source": [
    "# Lise Bolumu ✓"
   ]
  },
  {
   "cell_type": "code",
   "execution_count": 54,
   "id": "373cf24e-b18d-40c0-a8b1-b68de688f7ee",
   "metadata": {},
   "outputs": [
    {
     "name": "stdout",
     "output_type": "stream",
     "text": [
      "Lise Bolumu\n",
      "Sayısal                                28980\n",
      "Eşit Ağırlık                           16936\n",
      "FEN SAYISAL BİLİMLERİ ALANI             3995\n",
      "Sözel                                   3630\n",
      "EŞİT AĞIRLIK TÜRKÇE-MATEMATİK ALANI     2786\n",
      "                                       ...  \n",
      "Arkeoloji                                  1\n",
      "ELEKTİRİK VE ELEKTRONİK BÖLÜMÜ             1\n",
      "sosyal Bilgiler                            1\n",
      "Doğalgaz be tesisat teknolojileri          1\n",
      "Giyim Üretim Teknolojisi                   1\n",
      "Name: count, Length: 887, dtype: int64\n",
      "\n",
      "NaN:  1009\n"
     ]
    }
   ],
   "source": [
    "values_and_nulls(df,\"Lise Bolumu\")"
   ]
  },
  {
   "cell_type": "code",
   "execution_count": 55,
   "id": "7df89675-d6f4-4186-b0c4-98c0b7da5c46",
   "metadata": {},
   "outputs": [],
   "source": [
    "belirli_bolumler = [\"sayısal\", \"dil\", \"eşit ağırlık\",\"sözel\"]\n",
    "df['Lise Bolumu'] = df['Lise Bolumu'].apply(lambda x: x if x in belirli_bolumler else \"diğer\")"
   ]
  },
  {
   "cell_type": "code",
   "execution_count": 56,
   "id": "84499515-8791-42c2-ad9f-3006cb7051e5",
   "metadata": {},
   "outputs": [
    {
     "name": "stdout",
     "output_type": "stream",
     "text": [
      "Lise Bolumu\n",
      "diğer           64522\n",
      "sayısal           350\n",
      "eşit ağırlık      201\n",
      "sözel              44\n",
      "dil                 7\n",
      "Name: count, dtype: int64\n",
      "\n",
      "NaN:  0\n"
     ]
    }
   ],
   "source": [
    "values_and_nulls(df,\"Lise Bolumu\")"
   ]
  },
  {
   "cell_type": "markdown",
   "id": "7c67b11f-25b7-42b8-a8e3-2c2f29a0b637",
   "metadata": {},
   "source": [
    "# Lise Mezuniyet Notu ✓"
   ]
  },
  {
   "cell_type": "code",
   "execution_count": 57,
   "id": "e0b6b406-ab0b-44ae-929e-09d481f3fbbb",
   "metadata": {},
   "outputs": [
    {
     "name": "stdout",
     "output_type": "stream",
     "text": [
      "Lise Mezuniyet Notu\n",
      "75 - 100              22432\n",
      "84-70                  9141\n",
      "100-85                 6967\n",
      "4.00-3.50              3689\n",
      "50 - 75                3115\n",
      "3.00 - 4.00            3101\n",
      "3.50-3.00              2759\n",
      "3.50-3                 2330\n",
      "69-55                  2162\n",
      "3.00-2.50              2153\n",
      "50 - 74                1007\n",
      "2.50 ve altı            226\n",
      "54-45                    88\n",
      "25 - 50                  14\n",
      "Not ortalaması yok       11\n",
      "44-0                      6\n",
      "0 - 25                    3\n",
      "25 - 49                   2\n",
      "0 - 24                    1\n",
      "Name: count, dtype: int64\n",
      "\n",
      "NaN:  5917\n"
     ]
    }
   ],
   "source": [
    "values_and_nulls(df,\"Lise Mezuniyet Notu\")\n",
    "fill_missing_values(df,\"Lise Mezuniyet Notu\",0)\n",
    "df[\"Lise Mezuniyet Notu\"] = df[\"Lise Mezuniyet Notu\"].replace('Not ortalaması yok', 0)"
   ]
  },
  {
   "cell_type": "code",
   "execution_count": 58,
   "id": "88368667-d8ad-438c-b351-6b8e5ebe5406",
   "metadata": {},
   "outputs": [],
   "source": [
    "highs_grades = {\n",
    "    '75 - 100': 'A+',\n",
    "    '84-70': 'B',\n",
    "    '100-85': 'A+',\n",
    "    '0':'C',\n",
    "    '4.00-3.50': 'A+',\n",
    "    '50 - 75': 'A',\n",
    "    '3.00 - 4.00': 'B',\n",
    "    '3.50-3.00': 'B',\n",
    "    '3.50-3': 'B',\n",
    "    '69-55': 'A',\n",
    "    '3.00-2.50': 'A',\n",
    "    '50 - 74': 'A',\n",
    "    '2.50 ve altı': 'A',\n",
    "    '54-45': 'C',\n",
    "    '25 - 50': 'C',\n",
    "    '44-0': 'C',\n",
    "    '0 - 25': 'C',\n",
    "    '25 - 49': 'C',\n",
    "    '0 - 24': 'C',\n",
    "    0: 'C'\n",
    "}\n",
    "df[\"Lise Mezuniyet Notu\"] = df[\"Lise Mezuniyet Notu\"].map(highs_grades)"
   ]
  },
  {
   "cell_type": "code",
   "execution_count": 59,
   "id": "484b6df4-e529-4a1e-bc21-55f183c4165a",
   "metadata": {},
   "outputs": [
    {
     "name": "stdout",
     "output_type": "stream",
     "text": [
      "Lise Mezuniyet Notu\n",
      "A+    33088\n",
      "B     17331\n",
      "A      8663\n",
      "C      6042\n",
      "Name: count, dtype: int64\n",
      "\n",
      "NaN:  0\n"
     ]
    }
   ],
   "source": [
    "values_and_nulls(df,\"Lise Mezuniyet Notu\")"
   ]
  },
  {
   "cell_type": "markdown",
   "id": "ad5e7a0d-6ade-41c9-9b2e-7c0a5816eb71",
   "metadata": {
    "jp-MarkdownHeadingCollapsed": true
   },
   "source": [
    "# Baska Bir Kurumdan Burs Aliyor mu? ✓"
   ]
  },
  {
   "cell_type": "code",
   "execution_count": 60,
   "id": "96e0e443-db59-466a-9293-075bcb190440",
   "metadata": {},
   "outputs": [
    {
     "name": "stdout",
     "output_type": "stream",
     "text": [
      "Baska Bir Kurumdan Burs Aliyor mu?\n",
      "hayır    48513\n",
      "evet     16380\n",
      "Name: count, dtype: int64\n",
      "\n",
      "NaN:  231\n"
     ]
    }
   ],
   "source": [
    "all_letters_lowered(df,\"Baska Bir Kurumdan Burs Aliyor mu?\")\n",
    "values_and_nulls(df,\"Baska Bir Kurumdan Burs Aliyor mu?\")"
   ]
  },
  {
   "cell_type": "code",
   "execution_count": 61,
   "id": "33506790-207a-4a25-9325-8e7ff454c1d3",
   "metadata": {},
   "outputs": [
    {
     "name": "stdout",
     "output_type": "stream",
     "text": [
      "Baska Bir Kurumdan Burs Aliyor mu?\n",
      "hayır    48744\n",
      "evet     16380\n",
      "Name: count, dtype: int64\n",
      "\n",
      "NaN:  0\n"
     ]
    }
   ],
   "source": [
    "fill_missing_values(df,\"Baska Bir Kurumdan Burs Aliyor mu?\",\"hayır\")\n",
    "values_and_nulls(df,\"Baska Bir Kurumdan Burs Aliyor mu?\")"
   ]
  },
  {
   "cell_type": "markdown",
   "id": "98c18e3d-9001-4a7d-a448-937f5e661840",
   "metadata": {
    "jp-MarkdownHeadingCollapsed": true
   },
   "source": [
    "# Burs Aldigi Baska Kurum BİTMEDİ!!!!"
   ]
  },
  {
   "cell_type": "code",
   "execution_count": 62,
   "id": "b4f7f45a-0542-4caa-bcc9-d03c370c5dc5",
   "metadata": {},
   "outputs": [
    {
     "name": "stdout",
     "output_type": "stream",
     "text": [
      "Burs Aldigi Baska Kurum\n",
      "kyk                                      6666\n",
      "-                                        4711\n",
      "kredi ve yurtlar kurumu                   895\n",
      "kredi yurtlar kurumu                      756\n",
      "kyk bursu                                 526\n",
      "                                         ... \n",
      "divriği kültür derneği                      1\n",
      "şoförler ve otomobilciler esnaf odası       1\n",
      "kasapoğlu vakfı                             1\n",
      "kızılcahamam ve çamlıdereliler vakfı        1\n",
      "kyk yök bursu                               1\n",
      "Name: count, Length: 3375, dtype: int64\n",
      "\n",
      "NaN:  43977\n"
     ]
    }
   ],
   "source": [
    "# KYK, kyk, Kyk gibi farklı türevleri hızlıca birleştirmek için hepsini küçük karakter yapıyoruz. Diğer bazı sütunlarda da böyle.\n",
    "all_letters_lowered(df,\"Burs Aldigi Baska Kurum\")\n",
    "values_and_nulls(df,\"Burs Aldigi Baska Kurum\")"
   ]
  },
  {
   "cell_type": "code",
   "execution_count": 63,
   "id": "c0088d10-3599-48a5-ac85-8fcbe22d45ad",
   "metadata": {},
   "outputs": [
    {
     "name": "stdout",
     "output_type": "stream",
     "text": [
      "Burs Aldigi Baska Kurum\n",
      "almiyor                              48865\n",
      "kyk                                   6666\n",
      "kredi ve yurtlar kurumu                895\n",
      "kredi yurtlar kurumu                   756\n",
      "kyk bursu                              526\n",
      "                                     ...  \n",
      "kai vakfı                                1\n",
      "hayat vakfı                              1\n",
      "karadeniz eğitim ve kültür vakfı         1\n",
      "kredi yurtlar kurumu ( kredi )           1\n",
      "kyk yök bursu                            1\n",
      "Name: count, Length: 3219, dtype: int64\n",
      "\n",
      "NaN:  0\n"
     ]
    }
   ],
   "source": [
    "fill_missing_values(df,\"Burs Aldigi Baska Kurum\",\"almiyor\")\n",
    "df['Burs Aldigi Baska Kurum'] = df['Burs Aldigi Baska Kurum'].apply(lambda x: 'almiyor' if '-' in x else x)\n",
    "\n",
    "values_and_nulls(df,\"Burs Aldigi Baska Kurum\")"
   ]
  },
  {
   "cell_type": "code",
   "execution_count": 64,
   "id": "9cdc8a58-52d8-4ea9-99ec-c3f4adf0a1dc",
   "metadata": {},
   "outputs": [],
   "source": [
    "def update_value(value):\n",
    "    keywords_kyk = ['kredi', 'yurtlar', 'kredi ve yurtlar', 'kredi yurtlar','devlet','kyk','gsb','ky']\n",
    "    keyword_tev = [\"türk eğitim vakfı\",\"türk eği̇ti̇m vakfi\"]\n",
    "    keyword_tubitak = [\"tübitak\"]\n",
    "    keyword_ibb = [\"i̇stanbul büyükşehir belediyesi\"]\n",
    "    keyword_vgm = [\"vakıflar genel müdürlüğü\"]\n",
    "\n",
    "    \n",
    "    if any(keyword in value.lower() for keyword in keywords_kyk):\n",
    "        return 'kyk'\n",
    "    \n",
    "    if any(keyword in value.lower() for keyword in keyword_tev):\n",
    "        return 'tev'\n",
    "    \n",
    "    if any(keyword in value.lower() for keyword in keyword_tubitak):\n",
    "        return 'tübitak'\n",
    "\n",
    "    if any(keyword in value.lower() for keyword in keyword_ibb):\n",
    "        return 'ibb'\n",
    "\n",
    "    if any(keyword in value.lower() for keyword in keyword_vgm):\n",
    "        return 'vgm'\n",
    "    \n",
    "    return value\n",
    "\n",
    "df['Burs Aldigi Baska Kurum'] = df['Burs Aldigi Baska Kurum'].apply(update_value)"
   ]
  },
  {
   "cell_type": "code",
   "execution_count": 65,
   "id": "5bf1d386-5cad-445a-8beb-2fff41e9ca38",
   "metadata": {},
   "outputs": [],
   "source": [
    "value_counts = df['Burs Aldigi Baska Kurum'].value_counts()\n",
    "values_to_update = value_counts[value_counts < 10].index\n",
    "df['Burs Aldigi Baska Kurum'] = df['Burs Aldigi Baska Kurum'].apply(lambda x: 'diğer' if x in values_to_update else x)"
   ]
  },
  {
   "cell_type": "code",
   "execution_count": 66,
   "id": "23612ef7-5ffb-4d27-b22a-4f55cbf23bda",
   "metadata": {},
   "outputs": [
    {
     "data": {
      "text/plain": [
       "Burs Aldigi Baska Kurum\n",
       "almiyor                                   48865\n",
       "kyk                                       11906\n",
       "diğer                                      2773\n",
       "tev                                         210\n",
       "çağdaş yaşamı destekleme derneği            120\n",
       "k                                           103\n",
       "gençlik ve spor bakanlığı                    80\n",
       "başbakanlık bursu                            59\n",
       "vgm                                          55\n",
       "başbakanlık                                  54\n",
       "çydd                                         46\n",
       "mehmet zorlu vakfı                           46\n",
       "ibb                                          43\n",
       "bilkent üniversitesi                         42\n",
       "sabancı vakfı                                41\n",
       "anadolu vakfı                                41\n",
       "koç üniversitesi                             41\n",
       "tübi̇tak                                     38\n",
       "toplum gönüllüleri vakfı                     37\n",
       "tübitak                                      32\n",
       "rönesans eğitim vakfı                        30\n",
       "özyeğin üniversitesi                         29\n",
       "yök                                          28\n",
       "i̇bb                                         27\n",
       "i̇stanbul ticaret odası                      24\n",
       "meb                                          22\n",
       "vehbi koç vakfı                              21\n",
       "tog                                          21\n",
       "sabancı üniversitesi                         19\n",
       "türkiye teknoloji takımı vakfı               18\n",
       "büvak                                        15\n",
       "i̇stanbul sanayi odası vakfı                 14\n",
       "odtü mezunlar derneği                        14\n",
       "boğaziçi üniversitesi vakfı                  14\n",
       "tobb ekonomi ve teknoloji üniversitesi       13\n",
       "ekev                                         13\n",
       "elginkan vakfı                               13\n",
       "t3 vakfı                                     13\n",
       "i̇to                                         13\n",
       "türk üniversiteli kadınlar derneği           12\n",
       "ösym                                         12\n",
       "üniversite                                   12\n",
       "enka vakfı                                   11\n",
       "odtü geliştirme vakfı                        11\n",
       "tog vakfı                                    11\n",
       "i̇hsan doğramacı bilkent üniversitesi        11\n",
       "türkiye teknoloji takımı                     11\n",
       "tekfen vakfı                                 10\n",
       "d                                            10\n",
       "tobb etü                                     10\n",
       "türk eğitim derneği                          10\n",
       "Name: count, dtype: int64"
      ]
     },
     "execution_count": 66,
     "metadata": {},
     "output_type": "execute_result"
    }
   ],
   "source": [
    "df[\"Burs Aldigi Baska Kurum\"].value_counts()"
   ]
  },
  {
   "cell_type": "markdown",
   "id": "086e1337-8d69-46bd-b216-968147f03ddd",
   "metadata": {
    "jp-MarkdownHeadingCollapsed": true
   },
   "source": [
    "# Anne Egitim Durumu & Baba Egitim Durumu ✓"
   ]
  },
  {
   "cell_type": "code",
   "execution_count": 67,
   "id": "70bf3f9f-3c7e-4ffb-b1ec-15a5dd1f25fc",
   "metadata": {},
   "outputs": [],
   "source": [
    "def update_edu(df, column_name):\n",
    "    df.loc[df[column_name].str.contains('ilkokul', case=False, na=False), column_name] = 'ilkokul'\n",
    "    df.loc[df[column_name].str.contains('lise', case=False, na=False), column_name] = 'lise'\n",
    "    df.loc[df[column_name].str.contains('üniversite', case=False, na=False), column_name] = 'üniversite'\n",
    "    df.loc[df[column_name].str.contains('doktora', case=False, na=False), column_name] = 'doktora'\n",
    "    df.loc[df[column_name].str.contains('yüksek', case=False, na=False), column_name] = 'yüksek lisans'\n",
    "    df.loc[df[column_name].str.contains('ortaokul', case=False, na=False), column_name] = 'ortaokul'\n",
    "    df.loc[\n",
    "        (df[column_name].str.contains('0', case=False, na=False)) |\n",
    "        (df[column_name].str.contains('eğitimi yok', case=False, na=False)) |\n",
    "        (df[column_name].str.contains('eğitim yok', case=False, na=False)),\n",
    "        column_name\n",
    "    ] = 'yok'\n",
    "    \n",
    "    _edu = {\n",
    "    'ilkokul': 1,\n",
    "    'ortaokul': 2,\n",
    "    'lise': 3,\n",
    "    'üniversite': 4,\n",
    "    'yüksek lisans': 5,\n",
    "    'doktora': 6,\n",
    "    'yok': 0\n",
    "    }\n",
    "    fill_missing_values(df,column_name,\"yok\")\n",
    "    df[column_name] = df[column_name].map(_edu)\n",
    "    "
   ]
  },
  {
   "cell_type": "code",
   "execution_count": 68,
   "id": "b1467f9e-72c0-451f-b249-8af6ec6263ba",
   "metadata": {},
   "outputs": [],
   "source": [
    "update_edu(df,\"Anne Egitim Durumu\")\n",
    "update_edu(df,\"Baba Egitim Durumu\")"
   ]
  },
  {
   "cell_type": "markdown",
   "id": "8470269f-a80b-4144-a4d7-f9cd59a5480e",
   "metadata": {
    "jp-MarkdownHeadingCollapsed": true
   },
   "source": [
    "# Anne Çalışma Durumu & Baba Çalışma Durumu ✓"
   ]
  },
  {
   "cell_type": "code",
   "execution_count": 69,
   "id": "6c17c2b5-2e65-4ab0-929f-32846bec18a4",
   "metadata": {},
   "outputs": [],
   "source": [
    "fill_missing_values(df,\"Anne Calisma Durumu\",\"yok\")\n",
    "fill_missing_values(df,\"Baba Calisma Durumu\",\"yok\")"
   ]
  },
  {
   "cell_type": "code",
   "execution_count": 70,
   "id": "e1a8f099-9589-4932-a783-5e6ba86fee9d",
   "metadata": {},
   "outputs": [],
   "source": [
    "work = {\n",
    "    'Hayır': 1,\n",
    "    'Evet': 2,\n",
    "    'Emekli': 3,\n",
    "    'yok': 0,\n",
    "    }\n",
    "df[\"Baba Calisma Durumu\"] = df[\"Baba Calisma Durumu\"].map(work)\n",
    "df[\"Anne Calisma Durumu\"] = df[\"Anne Calisma Durumu\"].map(work)"
   ]
  },
  {
   "cell_type": "code",
   "execution_count": 71,
   "id": "9e833067-215a-4e6a-ae96-bcbb189f4e07",
   "metadata": {},
   "outputs": [
    {
     "name": "stdout",
     "output_type": "stream",
     "text": [
      "Anne Calisma Durumu\n",
      "1    39370\n",
      "0    11896\n",
      "2    10504\n",
      "3     3354\n",
      "Name: count, dtype: int64\n",
      "\n",
      "NaN:  0\n",
      "Baba Calisma Durumu\n",
      "2    28558\n",
      "0    12618\n",
      "1    12486\n",
      "3    11462\n",
      "Name: count, dtype: int64\n",
      "\n",
      "NaN:  0\n"
     ]
    }
   ],
   "source": [
    "values_and_nulls(df,\"Anne Calisma Durumu\")\n",
    "values_and_nulls(df,\"Baba Calisma Durumu\")"
   ]
  },
  {
   "cell_type": "markdown",
   "id": "3bea75c8-1f5b-4aa2-83ea-2ea3d23bc11c",
   "metadata": {
    "jp-MarkdownHeadingCollapsed": true
   },
   "source": [
    "# Anne Sektor & Baba Sektor ✓"
   ]
  },
  {
   "cell_type": "code",
   "execution_count": 72,
   "id": "9bf17faa-b055-4437-8c47-8d62ab713e4c",
   "metadata": {},
   "outputs": [],
   "source": [
    "def update_sector(df, column_name):\n",
    "    df.loc[df[column_name].str.contains('özel', case=False, na=False), column_name] = 'özel'\n",
    "    df.loc[df[column_name].str.contains('kamu', case=False, na=False), column_name] = 'kamu'\n",
    "    df.loc[df[column_name].str.contains('diğer', case=False, na=False), column_name] = 'diğer'\n",
    "    df.loc[\n",
    "        (df[column_name].str.contains('0', case=False, na=False)) |\n",
    "        (df[column_name].str.contains('-', case=False, na=False)) ,\n",
    "        column_name\n",
    "    ] = 'yok'\n",
    "    \n",
    "    sector = {\n",
    "    'kamu': 1,\n",
    "    'özel': 2,\n",
    "    'diğer': 3,\n",
    "    'yok': 0,\n",
    "    }\n",
    "    fill_missing_values(df,column_name,\"yok\")\n",
    "    df[column_name] = df[column_name].map(sector)"
   ]
  },
  {
   "cell_type": "code",
   "execution_count": 73,
   "id": "30195bb9-adba-43a7-8f62-e2cedb91738b",
   "metadata": {},
   "outputs": [],
   "source": [
    "update_sector(df,\"Baba Sektor\")\n",
    "update_sector(df,\"Anne Sektor\")"
   ]
  },
  {
   "cell_type": "markdown",
   "id": "6ed80817-76fb-4628-85b8-1ed1cb34ae47",
   "metadata": {
    "jp-MarkdownHeadingCollapsed": true
   },
   "source": [
    "# Kardes Sayisi ✓"
   ]
  },
  {
   "cell_type": "code",
   "execution_count": 74,
   "id": "b33dadf2-d5bd-4f39-b995-b8cb49cc2541",
   "metadata": {},
   "outputs": [
    {
     "name": "stdout",
     "output_type": "stream",
     "text": [
      "Kardes Sayisi\n",
      "1.0                                             16186\n",
      "2.0                                             13061\n",
      "3.0                                              6734\n",
      "1                                                6054\n",
      "4.0                                              4611\n",
      "2                                                3938\n",
      "0.0                                              3701\n",
      "5.0                                              3421\n",
      "3                                                2087\n",
      "0                                                1381\n",
      "4                                                 998\n",
      "5                                                 715\n",
      "6.0                                               206\n",
      "7.0                                               159\n",
      "6                                                 135\n",
      "10.0                                              127\n",
      "7                                                 119\n",
      "8.0                                                98\n",
      "9.0                                                79\n",
      "8                                                  75\n",
      "9                                                  43\n",
      "10                                                 42\n",
      "11                                                 12\n",
      "12                                                  5\n",
      "13                                                  2\n",
      "14                                                  1\n",
      "18                                                  1\n",
      "Kardeş Sayısı 1 Ek Bilgi Aile Hk. Anne Vefat        1\n",
      "Name: count, dtype: int64\n",
      "\n",
      "NaN:  1132\n",
      "Sütunda 2 farklı veri tipi var: {<class 'float'>, <class 'str'>} \n"
     ]
    }
   ],
   "source": [
    "values_and_nulls(df,\"Kardes Sayisi\")\n",
    "how_many_types(df,\"Kardes Sayisi\")\n",
    "df['Kardes Sayisi'] = df['Kardes Sayisi'].replace('Kardeş Sayısı 1 Ek Bilgi Aile Hk. Anne Vefat', 1)\n",
    "fill_missing_values(df,\"Kardes Sayisi\",0)\n",
    "df['Kardes Sayisi'] = df['Kardes Sayisi'].astype(int)"
   ]
  },
  {
   "cell_type": "code",
   "execution_count": 75,
   "id": "62c950b1-26c1-46db-b196-ed1100ded28f",
   "metadata": {},
   "outputs": [
    {
     "name": "stdout",
     "output_type": "stream",
     "text": [
      "Kardes Sayisi\n",
      "1    22241\n",
      "2    16999\n",
      "3     8821\n",
      "0     6214\n",
      "4     5609\n",
      "5     4136\n",
      "6     1104\n",
      "Name: count, dtype: int64\n",
      "\n",
      "NaN:  0\n"
     ]
    }
   ],
   "source": [
    "# 6 ve 6dan fazlaları bir araya getirdim.\n",
    "df['Kardes Sayisi'] = df['Kardes Sayisi'].apply(lambda x: 6 if x >= 6 else x)\n",
    "values_and_nulls(df,\"Kardes Sayisi\")"
   ]
  },
  {
   "cell_type": "markdown",
   "id": "210970cb-10f3-4831-b7f3-ea1fc2372887",
   "metadata": {
    "jp-MarkdownHeadingCollapsed": true
   },
   "source": [
    "# Girisimcilik Kulupleri Tarzi Bir Kulube Uye misiniz? ✓"
   ]
  },
  {
   "cell_type": "code",
   "execution_count": 76,
   "id": "d7a98fe8-bd47-40af-9ae8-22e051410eac",
   "metadata": {},
   "outputs": [
    {
     "name": "stdout",
     "output_type": "stream",
     "text": [
      "Girisimcilik Kulupleri Tarzi Bir Kulube Uye misiniz?\n",
      "Hayır    33709\n",
      "Evet     29586\n",
      "Name: count, dtype: int64\n",
      "\n",
      "NaN:  1829\n"
     ]
    }
   ],
   "source": [
    "values_and_nulls(df,\"Girisimcilik Kulupleri Tarzi Bir Kulube Uye misiniz?\")"
   ]
  },
  {
   "cell_type": "code",
   "execution_count": 77,
   "id": "381e10e0-68ca-4105-ac90-ec7f48370ea9",
   "metadata": {},
   "outputs": [],
   "source": [
    "fill_missing_values(df,\"Girisimcilik Kulupleri Tarzi Bir Kulube Uye misiniz?\",\"Hayır\")"
   ]
  },
  {
   "cell_type": "markdown",
   "id": "1dfab5c4-b4fa-43be-8f06-c7dc73052acf",
   "metadata": {},
   "source": [
    "# Uye Oldugunuz Kulubun Ismi SONRA BAKICAM !!!!!!!!!!!!!!!!!!!!! "
   ]
  },
  {
   "cell_type": "markdown",
   "id": "842f03c2-47d1-462d-a1a4-37692afa9f14",
   "metadata": {
    "jp-MarkdownHeadingCollapsed": true
   },
   "source": [
    "# Profesyonel Bir Spor Daliyla Mesgul musunuz? ✓"
   ]
  },
  {
   "cell_type": "code",
   "execution_count": 78,
   "id": "4a6beeb1-66fb-4627-a4a0-3d266a00227a",
   "metadata": {},
   "outputs": [
    {
     "name": "stdout",
     "output_type": "stream",
     "text": [
      "Profesyonel Bir Spor Daliyla Mesgul musunuz?\n",
      "Hayır    42243\n",
      "Evet     21766\n",
      "Name: count, dtype: int64\n",
      "\n",
      "NaN:  1115\n"
     ]
    }
   ],
   "source": [
    "values_and_nulls(df,\"Profesyonel Bir Spor Daliyla Mesgul musunuz?\")"
   ]
  },
  {
   "cell_type": "code",
   "execution_count": 79,
   "id": "b36159bf-205e-43df-b858-7a55b5a23e13",
   "metadata": {},
   "outputs": [],
   "source": [
    "fill_missing_values(df,\"Profesyonel Bir Spor Daliyla Mesgul musunuz?\",\"Hayır\")"
   ]
  },
  {
   "cell_type": "markdown",
   "id": "fe5f4e2d-dd4b-48c8-b951-3212e64c3221",
   "metadata": {
    "jp-MarkdownHeadingCollapsed": true
   },
   "source": [
    "# Spor Dalindaki Rolunuz Nedir BİDAHA BAK !!!!!!!!!"
   ]
  },
  {
   "cell_type": "code",
   "execution_count": 80,
   "id": "b6df64ba-33e1-4496-98d1-56adaff00a85",
   "metadata": {},
   "outputs": [
    {
     "name": "stdout",
     "output_type": "stream",
     "text": [
      "Spor Dalindaki Rolunuz Nedir?\n",
      "0                 11315\n",
      "Diğer              8836\n",
      "-                  4173\n",
      "Lider/Kaptan       1994\n",
      "DİĞER              1945\n",
      "Bireysel           1697\n",
      "Takım Oyuncusu     1174\n",
      "Kaptan              873\n",
      "KAPTAN / LİDER      842\n",
      "Name: count, dtype: int64\n",
      "\n",
      "NaN:  32275\n"
     ]
    }
   ],
   "source": [
    "values_and_nulls(df,\"Spor Dalindaki Rolunuz Nedir?\")"
   ]
  },
  {
   "cell_type": "code",
   "execution_count": 81,
   "id": "6763fde8-dd4e-4830-925e-a312b9f4207a",
   "metadata": {},
   "outputs": [],
   "source": [
    "def update_sport_role(df, column_name):\n",
    "    df.loc[\n",
    "        (df[column_name].str.contains('diğer', case=False, na=False)) |\n",
    "        (df[column_name].str.contains('takim oyuncusu', case=False, na=False)), column_name] = 'diğer'\n",
    "    \n",
    "    df.loc[df[column_name].str.contains('lider', case=False, na=False), column_name] = 'lider'\n",
    "    df.loc[df[column_name].str.contains('bireysel', case=False, na=False), column_name] = 'bireysel'\n",
    "    \n",
    "    df.loc[\n",
    "        (df[column_name].str.contains('0', case=False, na=False)) |\n",
    "        (df[column_name].str.contains('-', case=False, na=False)) ,\n",
    "        column_name\n",
    "    ] = 'yok'\n",
    "    \n",
    "    role = {\n",
    "    'lider': 1,\n",
    "    'bireysel': 2,\n",
    "    'diğer': 3,\n",
    "    'yok': 0,\n",
    "    }\n",
    "    fill_missing_values(df,column_name,\"yok\")\n",
    "    df[column_name] = df[column_name].map(role)"
   ]
  },
  {
   "cell_type": "code",
   "execution_count": 82,
   "id": "ebc7f47e-5fd3-4657-bbc6-dc00c5fa3395",
   "metadata": {},
   "outputs": [
    {
     "name": "stdout",
     "output_type": "stream",
     "text": [
      "Spor Dalindaki Rolunuz Nedir?\n",
      "0.0    47763\n",
      "3.0    11955\n",
      "1.0     2836\n",
      "2.0     1697\n",
      "Name: count, dtype: int64\n",
      "\n",
      "NaN:  873\n"
     ]
    }
   ],
   "source": [
    "update_sport_role(df,\"Spor Dalindaki Rolunuz Nedir?\")\n",
    "values_and_nulls(df,\"Spor Dalindaki Rolunuz Nedir?\")"
   ]
  },
  {
   "cell_type": "markdown",
   "id": "e3c8a7b5-7661-40c5-a336-05e61a731905",
   "metadata": {
    "jp-MarkdownHeadingCollapsed": true
   },
   "source": [
    "# Aktif olarak bir STK üyesi misiniz? ✓"
   ]
  },
  {
   "cell_type": "code",
   "execution_count": 83,
   "id": "9ecbcc3f-fa62-4f20-a16a-761afdd39744",
   "metadata": {},
   "outputs": [
    {
     "name": "stdout",
     "output_type": "stream",
     "text": [
      "Aktif olarak bir STK üyesi misiniz?\n",
      "Hayır    37716\n",
      "Evet     14566\n",
      "Name: count, dtype: int64\n",
      "\n",
      "NaN:  12842\n"
     ]
    }
   ],
   "source": [
    "values_and_nulls(df,\"Aktif olarak bir STK üyesi misiniz?\")"
   ]
  },
  {
   "cell_type": "code",
   "execution_count": 84,
   "id": "1854c5db-aa14-41bd-8190-b3451add78de",
   "metadata": {},
   "outputs": [],
   "source": [
    "fill_missing_values(df,\"Aktif olarak bir STK üyesi misiniz?\",\"Hayır\")"
   ]
  },
  {
   "cell_type": "code",
   "execution_count": 85,
   "id": "0558f294-c00d-4899-809f-b89b4ed62506",
   "metadata": {},
   "outputs": [
    {
     "name": "stdout",
     "output_type": "stream",
     "text": [
      "Aktif olarak bir STK üyesi misiniz?\n",
      "Hayır    50558\n",
      "Evet     14566\n",
      "Name: count, dtype: int64\n",
      "\n",
      "NaN:  0\n"
     ]
    }
   ],
   "source": [
    "values_and_nulls(df,\"Aktif olarak bir STK üyesi misiniz?\")"
   ]
  },
  {
   "cell_type": "markdown",
   "id": "7b72bde8-a830-4fc7-9d37-9a9a755d7c7d",
   "metadata": {
    "jp-MarkdownHeadingCollapsed": true
   },
   "source": [
    "# Hangi STK'nin Uyesisiniz?"
   ]
  },
  {
   "cell_type": "markdown",
   "id": "a014c905-cd4b-4f8e-987e-ea052e8ef80e",
   "metadata": {
    "jp-MarkdownHeadingCollapsed": true
   },
   "source": [
    "# Stk Projesine Katildiniz Mi? ✓"
   ]
  },
  {
   "cell_type": "code",
   "execution_count": 86,
   "id": "acf7239a-90cd-4e2f-bc66-2c0b60942f39",
   "metadata": {},
   "outputs": [
    {
     "name": "stdout",
     "output_type": "stream",
     "text": [
      "Stk Projesine Katildiniz Mi?\n",
      "Hayır    19661\n",
      "Evet     17156\n",
      "Name: count, dtype: int64\n",
      "\n",
      "NaN:  28307\n"
     ]
    }
   ],
   "source": [
    "values_and_nulls(df,\"Stk Projesine Katildiniz Mi?\")"
   ]
  },
  {
   "cell_type": "code",
   "execution_count": 87,
   "id": "bd3cce76-1be7-44e6-8a9c-3b1cbeb09586",
   "metadata": {},
   "outputs": [],
   "source": [
    "fill_missing_values(df,\"Stk Projesine Katildiniz Mi?\",\"Hayır\")"
   ]
  },
  {
   "cell_type": "code",
   "execution_count": 88,
   "id": "02de7c2a-ba29-43cf-a8b8-3ac0d21967e1",
   "metadata": {},
   "outputs": [
    {
     "name": "stdout",
     "output_type": "stream",
     "text": [
      "Stk Projesine Katildiniz Mi?\n",
      "Hayır    47968\n",
      "Evet     17156\n",
      "Name: count, dtype: int64\n",
      "\n",
      "NaN:  0\n"
     ]
    }
   ],
   "source": [
    "values_and_nulls(df,\"Stk Projesine Katildiniz Mi?\")"
   ]
  },
  {
   "cell_type": "markdown",
   "id": "0dd3d4b4-c9c4-47ac-a8dd-199dc81cf317",
   "metadata": {
    "jp-MarkdownHeadingCollapsed": true
   },
   "source": [
    "# Girisimcilikle Ilgili Deneyiminiz Var Mi? ✓"
   ]
  },
  {
   "cell_type": "code",
   "execution_count": 89,
   "id": "ec7dca10-0e29-454a-852f-3f2235b8e769",
   "metadata": {},
   "outputs": [
    {
     "name": "stdout",
     "output_type": "stream",
     "text": [
      "Girisimcilikle Ilgili Deneyiminiz Var Mi?\n",
      "Hayır    33919\n",
      "Evet     18365\n",
      "Name: count, dtype: int64\n",
      "\n",
      "NaN:  12840\n"
     ]
    }
   ],
   "source": [
    "values_and_nulls(df,\"Girisimcilikle Ilgili Deneyiminiz Var Mi?\")"
   ]
  },
  {
   "cell_type": "code",
   "execution_count": 90,
   "id": "e8eebc0a-57ef-4254-8da6-daba6c97a9bd",
   "metadata": {},
   "outputs": [],
   "source": [
    "fill_missing_values(df,\"Girisimcilikle Ilgili Deneyiminiz Var Mi?\",\"Hayır\")"
   ]
  },
  {
   "cell_type": "code",
   "execution_count": 91,
   "id": "ff9c159d-9e4d-4336-88dc-3a23b0c4f160",
   "metadata": {},
   "outputs": [
    {
     "name": "stdout",
     "output_type": "stream",
     "text": [
      "Girisimcilikle Ilgili Deneyiminiz Var Mi?\n",
      "Hayır    46759\n",
      "Evet     18365\n",
      "Name: count, dtype: int64\n",
      "\n",
      "NaN:  0\n"
     ]
    }
   ],
   "source": [
    "values_and_nulls(df,\"Girisimcilikle Ilgili Deneyiminiz Var Mi?\")"
   ]
  },
  {
   "cell_type": "markdown",
   "id": "68fb93f2-02b0-4c61-bf21-84b352f55338",
   "metadata": {
    "jp-MarkdownHeadingCollapsed": true
   },
   "source": [
    "# Girisimcilikle Ilgili Deneyiminizi Aciklayabilir misiniz?"
   ]
  },
  {
   "cell_type": "markdown",
   "id": "f62e7985-fb97-4cb4-9d39-0118a46e1a02",
   "metadata": {
    "jp-MarkdownHeadingCollapsed": true
   },
   "source": [
    "# Ingilizce Biliyor musunuz? ✓"
   ]
  },
  {
   "cell_type": "code",
   "execution_count": 92,
   "id": "3cd4c7ba-b52a-4a59-8832-9e7fa1620702",
   "metadata": {},
   "outputs": [
    {
     "name": "stdout",
     "output_type": "stream",
     "text": [
      "Ingilizce Biliyor musunuz?\n",
      "Evet     48871\n",
      "Hayır     9799\n",
      "Name: count, dtype: int64\n",
      "\n",
      "NaN:  6454\n"
     ]
    }
   ],
   "source": [
    "values_and_nulls(df,\"Ingilizce Biliyor musunuz?\")"
   ]
  },
  {
   "cell_type": "code",
   "execution_count": 93,
   "id": "a932f8d2-f244-4fd7-a6e4-b81b2a46f057",
   "metadata": {},
   "outputs": [],
   "source": [
    "fill_missing_values(df,\"Ingilizce Biliyor musunuz?\",\"Hayır\")"
   ]
  },
  {
   "cell_type": "code",
   "execution_count": 94,
   "id": "0bfe40e1-5b3d-4aa6-be6d-e64bf50ef24b",
   "metadata": {},
   "outputs": [
    {
     "name": "stdout",
     "output_type": "stream",
     "text": [
      "Ingilizce Biliyor musunuz?\n",
      "Evet     48871\n",
      "Hayır    16253\n",
      "Name: count, dtype: int64\n",
      "\n",
      "NaN:  0\n"
     ]
    }
   ],
   "source": [
    "values_and_nulls(df,\"Ingilizce Biliyor musunuz?\")"
   ]
  },
  {
   "cell_type": "markdown",
   "id": "7d420384-bad9-4431-827f-f04cecf9f05a",
   "metadata": {
    "jp-MarkdownHeadingCollapsed": true
   },
   "source": [
    "# Ingilizce Seviyeniz? ✓"
   ]
  },
  {
   "cell_type": "code",
   "execution_count": 95,
   "id": "fdd84d74-2468-4f06-a4a2-a0588bef0c1f",
   "metadata": {},
   "outputs": [
    {
     "name": "stdout",
     "output_type": "stream",
     "text": [
      "Ingilizce Seviyeniz?\n",
      "Orta         13057\n",
      "İleri         8318\n",
      "Başlangıç     5180\n",
      "0             2037\n",
      "Name: count, dtype: int64\n",
      "\n",
      "NaN:  36532\n"
     ]
    }
   ],
   "source": [
    "values_and_nulls(df,\"Ingilizce Seviyeniz?\")"
   ]
  },
  {
   "cell_type": "code",
   "execution_count": 96,
   "id": "dc807136-5604-47cb-8c94-14a9aa8b19d1",
   "metadata": {},
   "outputs": [],
   "source": [
    "fill_missing_values(df,\"Ingilizce Seviyeniz?\",\"0\")"
   ]
  },
  {
   "cell_type": "code",
   "execution_count": 97,
   "id": "9d4cd0fb-ef3d-4ef4-9381-f9480718f972",
   "metadata": {},
   "outputs": [
    {
     "name": "stdout",
     "output_type": "stream",
     "text": [
      "Ingilizce Seviyeniz?\n",
      "0            38569\n",
      "Orta         13057\n",
      "İleri         8318\n",
      "Başlangıç     5180\n",
      "Name: count, dtype: int64\n",
      "\n",
      "NaN:  0\n"
     ]
    }
   ],
   "source": [
    "values_and_nulls(df,\"Ingilizce Seviyeniz?\")"
   ]
  },
  {
   "cell_type": "code",
   "execution_count": 98,
   "id": "d17b24d0-919e-4422-ba54-0587ab378a91",
   "metadata": {},
   "outputs": [
    {
     "name": "stdout",
     "output_type": "stream",
     "text": [
      "Daha Önceden Mezun Olunduysa, Mezun Olunan Üniversite\n",
      "Anadolu Üniversitesi             26\n",
      "ANADOLU ÜNİVERSİTESİ             19\n",
      "MARMARA ÜNİVERSİTESİ             11\n",
      "İSTANBUL ÜNİVERSİTESİ             8\n",
      "KOCAELİ ÜNİVERSİTESİ              7\n",
      "                                 ..\n",
      "Bitlis Eren Üniversitesi          1\n",
      "Bingöl Üniversitesi               1\n",
      "İstanbul Kültür Üniversitesi      1\n",
      "Orta Doğu Teknik Üniversitesi     1\n",
      "HASAN KALYONCU ÜNİVERSİTESİ       1\n",
      "Name: count, Length: 168, dtype: int64\n",
      "\n",
      "NaN:  64705\n"
     ]
    }
   ],
   "source": [
    "values_and_nulls(df,\"Daha Önceden Mezun Olunduysa, Mezun Olunan Üniversite\")"
   ]
  },
  {
   "cell_type": "markdown",
   "id": "e5b5628c-7a7e-4083-b1b0-9fa5bd1d94e4",
   "metadata": {},
   "source": [
    "# ŞİMDİLİK 0 LAR İLE DOLDURACAĞIM SÜTUNLAR"
   ]
  },
  {
   "cell_type": "code",
   "execution_count": 99,
   "id": "13d94712-1c3f-45fd-926a-f678140394b0",
   "metadata": {},
   "outputs": [],
   "source": [
    "# ŞİMDİLİK 0 LAR İLE DOLDURACAĞIM SÜTUNLAR\n",
    "\n",
    "# Daha Önceden Mezun Olunduysa, Mezun Olunan Üniversite\n",
    "# Uye Oldugunuz Kulubun Ismi\n",
    "# Lise Adi Diger\n",
    "# Hangi STK'nin Uyesisiniz?\n",
    "# Girisimcilikle Ilgili Deneyiminizi Aciklayabilir misiniz?\n",
    "# Lise Bolum Diger"
   ]
  },
  {
   "cell_type": "code",
   "execution_count": null,
   "id": "52970ccc-a065-402c-9f3d-19e9ee335fd8",
   "metadata": {},
   "outputs": [],
   "source": []
  }
 ],
 "metadata": {
  "kernelspec": {
   "display_name": "Python 3 (ipykernel)",
   "language": "python",
   "name": "python3"
  },
  "language_info": {
   "codemirror_mode": {
    "name": "ipython",
    "version": 3
   },
   "file_extension": ".py",
   "mimetype": "text/x-python",
   "name": "python",
   "nbconvert_exporter": "python",
   "pygments_lexer": "ipython3",
   "version": "3.12.3"
  }
 },
 "nbformat": 4,
 "nbformat_minor": 5
}
